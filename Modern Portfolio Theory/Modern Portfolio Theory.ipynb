{
 "cells": [
  {
   "cell_type": "markdown",
   "metadata": {},
   "source": [
    "# Modern Portfolio Theory: Creating The Most Efficient Portfolio"
   ]
  },
  {
   "cell_type": "markdown",
   "metadata": {},
   "source": [
    "In this project we are going apply Modern Portfolio Theory (MPT) by Markowitz on Python. Modern Portfolio Theory is used for portfolio selection (any number of stocks) and gives investors information on how much of money should they invest in each stock, depending on their risk tolerance, in order to maximize their expected returns.\n",
    "\n",
    "Like most theories, MPT relies on some real world assumptions:\n",
    "\n",
    "- Investors are rational and avoid risks as much as possible \n",
    "- Investors aim for the maximum returns for their investments \n",
    "- All investors share the aim of maximizing their expected returns \n",
    "- Commissions and taxes are left out of the considerations \n",
    "- All investors have access to the same sources and levels of all necessary information about their investment decisions \n",
    "- Investors have unlimited access to borrow and lend money at risk-free rate \n",
    "\n",
    "The most important point of this theory is that investors can construct an \"efficient set of portfolios\" (Efficient Frontier) that offers maximum expected returns for a given level of risk. An investor with low risk tolerance chooses the maximum expected returns given the lowest possible risk, and those with the highest risk tolerance will choose \"high risk, high reward\" portfolios.\n",
    "\n",
    "Professor Markowitz realized that by constructing multiple portfolios with different combinations of securities (diversification), investors can achieve a maximum expected return given their risk preferences. In other words, returns of a portfolio are greatly affected by the relationship between assets and their assigned weights in the portfolio.\n",
    "\n",
    "In this project, we will be pulling data using the Quandl API, which is a platform for financial, economic, and alternative data that serves investment professionals. The link to the website can be found below:\n",
    "\n",
    "https://www.quandl.com\n",
    "\n",
    "First you have to register an account on the website, as well as add it to your Python library (you can use pip or any Python distribution of your choice).\n",
    "\n",
    "To begin, let us import our required libraries. In this project we will be using: \n",
    "\n",
    "- Quandl (To get our data)\n",
    "- Pandas (Combine the data in a dataframe for analysis)\n",
    "- Numpy (Perform a series of calculations)\n",
    "- Matplotlib (Graphing the Efficient Frontier)"
   ]
  },
  {
   "cell_type": "code",
   "execution_count": 31,
   "metadata": {},
   "outputs": [],
   "source": [
    "import quandl \n",
    "import pandas as pd \n",
    "import numpy as np \n",
    "import matplotlib.pyplot as plt \n",
    "%matplotlib inline"
   ]
  },
  {
   "cell_type": "markdown",
   "metadata": {},
   "source": [
    "Once you have registered an account on Quandl, you will be given an API key for you to save. An API key allows you to make more than 50 calls a day in Quandl, provided that you use it frequently enough when you are working on finance in Python.\n",
    "\n",
    "In personal applications you do not have to worry about this, but in some settings that require you to show your work to others, you might want to save the API key in a text file (.txt) and access it through Python in a manner that does not allow others to view your API key when they see your code.\n",
    "\n",
    "In this case, I have saved my API key inside a file called \"quandlapi.txt\" and will access it through Python. Note that your Python script and the API key text file should be in the same directory (for convenience). "
   ]
  },
  {
   "cell_type": "code",
   "execution_count": 38,
   "metadata": {},
   "outputs": [],
   "source": [
    "# Access the API key and place it in a variable\n",
    "quandl_api_key = open('quandlapi.txt','r').read()\n",
    "\n",
    "# Access Quandl using your API key\n",
    "quandl.ApiConfig.api_key = quandl_api_key"
   ]
  },
  {
   "cell_type": "markdown",
   "metadata": {},
   "source": [
    "Now, we can select a number of different assets for our portfolio. In this project we will stick to five:\n",
    "\n",
    "- Coca-Cola\n",
    "- Microsoft \n",
    "- Pepsi\n",
    "- General Electric \n",
    "- NVIDIA\n",
    "\n",
    "We will place the ticker symbols of each asset inside a Python list, and then call the data from the Quandl API."
   ]
  },
  {
   "cell_type": "code",
   "execution_count": 40,
   "metadata": {},
   "outputs": [],
   "source": [
    "selected = ['KO', 'MSFT', 'PEP', 'GE', 'NVDA']\n",
    "\n",
    "# Calling data from Quandl and placing them inside a variable\n",
    "data = quandl.get_table('WIKI/PRICES', ticker = selected,\n",
    "                        qopts = { 'columns': ['date', 'ticker', 'adj_close'] },\n",
    "                        date = { 'gte': '2017-1-1', 'lte': '2018-1-1' }, paginate=True)"
   ]
  },
  {
   "cell_type": "markdown",
   "metadata": {},
   "source": [
    "Let's break this down. the \".get_table\" method is used to call the data from the API, and in this case it comes with several parameters. As shown in the code above, we will be pulling data from WIKI daily stock prices, and the list of assets we want are passed on as a list of tickers we just created. \n",
    "\n",
    "The \"qopts\" parameter than comes after that is used when we want to only take certain columns from the dataset inside WIKI. In this case, we specify that we only need the date, the ticker symbol, and the adjusted close price. \n",
    "\n",
    "For the \"date\" parameter, we specify that we want data that is greater than / equal to January 1st, 2017 and less than / equal to January 1st, 2018. In other words, we want to pull one year of data from WIKI. \n",
    "\n",
    "Lastly, for tables API Quandl by default only allows 10,000 rows per call, but in Python we can set \"paginate = True\" to extend the number of rows to 1,000,000 per call. \n",
    "\n",
    "Now let's check the data (print the first 5 rows):"
   ]
  },
  {
   "cell_type": "code",
   "execution_count": 41,
   "metadata": {},
   "outputs": [
    {
     "data": {
      "text/html": [
       "<div>\n",
       "<style scoped>\n",
       "    .dataframe tbody tr th:only-of-type {\n",
       "        vertical-align: middle;\n",
       "    }\n",
       "\n",
       "    .dataframe tbody tr th {\n",
       "        vertical-align: top;\n",
       "    }\n",
       "\n",
       "    .dataframe thead th {\n",
       "        text-align: right;\n",
       "    }\n",
       "</style>\n",
       "<table border=\"1\" class=\"dataframe\">\n",
       "  <thead>\n",
       "    <tr style=\"text-align: right;\">\n",
       "      <th></th>\n",
       "      <th>date</th>\n",
       "      <th>ticker</th>\n",
       "      <th>adj_close</th>\n",
       "    </tr>\n",
       "    <tr>\n",
       "      <th>None</th>\n",
       "      <th></th>\n",
       "      <th></th>\n",
       "      <th></th>\n",
       "    </tr>\n",
       "  </thead>\n",
       "  <tbody>\n",
       "    <tr>\n",
       "      <th>0</th>\n",
       "      <td>2017-01-03</td>\n",
       "      <td>GE</td>\n",
       "      <td>30.870473</td>\n",
       "    </tr>\n",
       "    <tr>\n",
       "      <th>1</th>\n",
       "      <td>2017-01-04</td>\n",
       "      <td>GE</td>\n",
       "      <td>30.880215</td>\n",
       "    </tr>\n",
       "    <tr>\n",
       "      <th>2</th>\n",
       "      <td>2017-01-05</td>\n",
       "      <td>GE</td>\n",
       "      <td>30.704870</td>\n",
       "    </tr>\n",
       "    <tr>\n",
       "      <th>3</th>\n",
       "      <td>2017-01-06</td>\n",
       "      <td>GE</td>\n",
       "      <td>30.792542</td>\n",
       "    </tr>\n",
       "    <tr>\n",
       "      <th>4</th>\n",
       "      <td>2017-01-09</td>\n",
       "      <td>GE</td>\n",
       "      <td>30.646421</td>\n",
       "    </tr>\n",
       "  </tbody>\n",
       "</table>\n",
       "</div>"
      ],
      "text/plain": [
       "           date ticker  adj_close\n",
       "None                             \n",
       "0    2017-01-03     GE  30.870473\n",
       "1    2017-01-04     GE  30.880215\n",
       "2    2017-01-05     GE  30.704870\n",
       "3    2017-01-06     GE  30.792542\n",
       "4    2017-01-09     GE  30.646421"
      ]
     },
     "execution_count": 41,
     "metadata": {},
     "output_type": "execute_result"
    }
   ],
   "source": [
    "data.head()"
   ]
  },
  {
   "cell_type": "markdown",
   "metadata": {},
   "source": [
    "As we can see here, Quandl did manage to pull all of the data that is required. However, note that it is in a form where all the tickers are fitted inside one column going down, which makes it incovenient for our data analysis purposes. \n",
    "\n",
    "What we want is to set the date as the index of our dataframe, while each ticker (and its corresponding adjusted close prices) gets its own column, and we are going to do just that."
   ]
  },
  {
   "cell_type": "code",
   "execution_count": 11,
   "metadata": {
    "scrolled": true
   },
   "outputs": [
    {
     "data": {
      "text/html": [
       "<div>\n",
       "<style scoped>\n",
       "    .dataframe tbody tr th:only-of-type {\n",
       "        vertical-align: middle;\n",
       "    }\n",
       "\n",
       "    .dataframe tbody tr th {\n",
       "        vertical-align: top;\n",
       "    }\n",
       "\n",
       "    .dataframe thead tr th {\n",
       "        text-align: left;\n",
       "    }\n",
       "\n",
       "    .dataframe thead tr:last-of-type th {\n",
       "        text-align: right;\n",
       "    }\n",
       "</style>\n",
       "<table border=\"1\" class=\"dataframe\">\n",
       "  <thead>\n",
       "    <tr>\n",
       "      <th></th>\n",
       "      <th colspan=\"5\" halign=\"left\">adj_close</th>\n",
       "    </tr>\n",
       "    <tr>\n",
       "      <th>ticker</th>\n",
       "      <th>GE</th>\n",
       "      <th>KO</th>\n",
       "      <th>MSFT</th>\n",
       "      <th>NVDA</th>\n",
       "      <th>PEP</th>\n",
       "    </tr>\n",
       "    <tr>\n",
       "      <th>date</th>\n",
       "      <th></th>\n",
       "      <th></th>\n",
       "      <th></th>\n",
       "      <th></th>\n",
       "      <th></th>\n",
       "    </tr>\n",
       "  </thead>\n",
       "  <tbody>\n",
       "    <tr>\n",
       "      <th>2017-01-03</th>\n",
       "      <td>30.870473</td>\n",
       "      <td>40.770394</td>\n",
       "      <td>61.219142</td>\n",
       "      <td>101.688849</td>\n",
       "      <td>102.510035</td>\n",
       "    </tr>\n",
       "    <tr>\n",
       "      <th>2017-01-04</th>\n",
       "      <td>30.880215</td>\n",
       "      <td>40.624089</td>\n",
       "      <td>60.945231</td>\n",
       "      <td>104.061357</td>\n",
       "      <td>102.705946</td>\n",
       "    </tr>\n",
       "    <tr>\n",
       "      <th>2017-01-05</th>\n",
       "      <td>30.704870</td>\n",
       "      <td>40.721626</td>\n",
       "      <td>60.945231</td>\n",
       "      <td>101.419699</td>\n",
       "      <td>102.568808</td>\n",
       "    </tr>\n",
       "    <tr>\n",
       "      <th>2017-01-06</th>\n",
       "      <td>30.792542</td>\n",
       "      <td>40.711872</td>\n",
       "      <td>61.473488</td>\n",
       "      <td>102.775418</td>\n",
       "      <td>102.421876</td>\n",
       "    </tr>\n",
       "    <tr>\n",
       "      <th>2017-01-09</th>\n",
       "      <td>30.646421</td>\n",
       "      <td>40.302218</td>\n",
       "      <td>61.277837</td>\n",
       "      <td>106.942258</td>\n",
       "      <td>101.344369</td>\n",
       "    </tr>\n",
       "  </tbody>\n",
       "</table>\n",
       "</div>"
      ],
      "text/plain": [
       "            adj_close                                              \n",
       "ticker             GE         KO       MSFT        NVDA         PEP\n",
       "date                                                               \n",
       "2017-01-03  30.870473  40.770394  61.219142  101.688849  102.510035\n",
       "2017-01-04  30.880215  40.624089  60.945231  104.061357  102.705946\n",
       "2017-01-05  30.704870  40.721626  60.945231  101.419699  102.568808\n",
       "2017-01-06  30.792542  40.711872  61.473488  102.775418  102.421876\n",
       "2017-01-09  30.646421  40.302218  61.277837  106.942258  101.344369"
      ]
     },
     "execution_count": 11,
     "metadata": {},
     "output_type": "execute_result"
    }
   ],
   "source": [
    "clean_table = data.set_index('date').pivot(columns = 'ticker')\n",
    "\n",
    "# Check the data now\n",
    "clean_table.head()"
   ]
  },
  {
   "cell_type": "markdown",
   "metadata": {},
   "source": [
    "Now that the dataframe is in a form that is more useful for our analysis, we want to get into both the daily and annual returns of each stock. To do that, we first find the daily percentage change of each stock, and then multiply the mean of those returns by 252 days (in the US there are 252 trading days in a year). "
   ]
  },
  {
   "cell_type": "code",
   "execution_count": 12,
   "metadata": {},
   "outputs": [
    {
     "data": {
      "text/html": [
       "<div>\n",
       "<style scoped>\n",
       "    .dataframe tbody tr th:only-of-type {\n",
       "        vertical-align: middle;\n",
       "    }\n",
       "\n",
       "    .dataframe tbody tr th {\n",
       "        vertical-align: top;\n",
       "    }\n",
       "\n",
       "    .dataframe thead tr th {\n",
       "        text-align: left;\n",
       "    }\n",
       "\n",
       "    .dataframe thead tr:last-of-type th {\n",
       "        text-align: right;\n",
       "    }\n",
       "</style>\n",
       "<table border=\"1\" class=\"dataframe\">\n",
       "  <thead>\n",
       "    <tr>\n",
       "      <th></th>\n",
       "      <th colspan=\"5\" halign=\"left\">adj_close</th>\n",
       "    </tr>\n",
       "    <tr>\n",
       "      <th>ticker</th>\n",
       "      <th>GE</th>\n",
       "      <th>KO</th>\n",
       "      <th>MSFT</th>\n",
       "      <th>NVDA</th>\n",
       "      <th>PEP</th>\n",
       "    </tr>\n",
       "    <tr>\n",
       "      <th>date</th>\n",
       "      <th></th>\n",
       "      <th></th>\n",
       "      <th></th>\n",
       "      <th></th>\n",
       "      <th></th>\n",
       "    </tr>\n",
       "  </thead>\n",
       "  <tbody>\n",
       "    <tr>\n",
       "      <th>2017-01-03</th>\n",
       "      <td>NaN</td>\n",
       "      <td>NaN</td>\n",
       "      <td>NaN</td>\n",
       "      <td>NaN</td>\n",
       "      <td>NaN</td>\n",
       "    </tr>\n",
       "    <tr>\n",
       "      <th>2017-01-04</th>\n",
       "      <td>0.000316</td>\n",
       "      <td>-0.003589</td>\n",
       "      <td>-0.004474</td>\n",
       "      <td>0.023331</td>\n",
       "      <td>0.001911</td>\n",
       "    </tr>\n",
       "    <tr>\n",
       "      <th>2017-01-05</th>\n",
       "      <td>-0.005678</td>\n",
       "      <td>0.002401</td>\n",
       "      <td>0.000000</td>\n",
       "      <td>-0.025386</td>\n",
       "      <td>-0.001335</td>\n",
       "    </tr>\n",
       "    <tr>\n",
       "      <th>2017-01-06</th>\n",
       "      <td>0.002855</td>\n",
       "      <td>-0.000240</td>\n",
       "      <td>0.008668</td>\n",
       "      <td>0.013367</td>\n",
       "      <td>-0.001433</td>\n",
       "    </tr>\n",
       "    <tr>\n",
       "      <th>2017-01-09</th>\n",
       "      <td>-0.004745</td>\n",
       "      <td>-0.010062</td>\n",
       "      <td>-0.003183</td>\n",
       "      <td>0.040543</td>\n",
       "      <td>-0.010520</td>\n",
       "    </tr>\n",
       "  </tbody>\n",
       "</table>\n",
       "</div>"
      ],
      "text/plain": [
       "           adj_close                                        \n",
       "ticker            GE        KO      MSFT      NVDA       PEP\n",
       "date                                                        \n",
       "2017-01-03       NaN       NaN       NaN       NaN       NaN\n",
       "2017-01-04  0.000316 -0.003589 -0.004474  0.023331  0.001911\n",
       "2017-01-05 -0.005678  0.002401  0.000000 -0.025386 -0.001335\n",
       "2017-01-06  0.002855 -0.000240  0.008668  0.013367 -0.001433\n",
       "2017-01-09 -0.004745 -0.010062 -0.003183  0.040543 -0.010520"
      ]
     },
     "execution_count": 12,
     "metadata": {},
     "output_type": "execute_result"
    }
   ],
   "source": [
    "daily_returns = clean_table.pct_change()\n",
    "annual_returns = daily_returns.mean() * 252 # number of trading days\n",
    "\n",
    "# Check the daily returns data\n",
    "daily_returns.head()"
   ]
  },
  {
   "cell_type": "markdown",
   "metadata": {},
   "source": [
    "Of course, the first row is not available because there is no row before that to calculate the percentage change from that point. However, it will not affect our analysis at all. Let's also check the annual returns of our data for each stock:"
   ]
  },
  {
   "cell_type": "code",
   "execution_count": 13,
   "metadata": {},
   "outputs": [
    {
     "data": {
      "text/plain": [
       "           ticker\n",
       "adj_close  GE       -0.556658\n",
       "           KO        0.123537\n",
       "           MSFT      0.349675\n",
       "           NVDA      0.731674\n",
       "           PEP       0.163497\n",
       "dtype: float64"
      ]
     },
     "execution_count": 13,
     "metadata": {},
     "output_type": "execute_result"
    }
   ],
   "source": [
    "annual_returns.head()"
   ]
  },
  {
   "cell_type": "markdown",
   "metadata": {},
   "source": [
    "We also want to find the daily and annual covariance of the returns of each stock to perform calculations of the metrics that we will use for our investment decisions, which will be explained further later. For now, the method of doing so in Python is very similar, where we get the daily covariance and multiply it by 252 trading days to get to the annual covariance."
   ]
  },
  {
   "cell_type": "code",
   "execution_count": 14,
   "metadata": {},
   "outputs": [],
   "source": [
    "daily_covariance = daily_returns.cov()\n",
    "annual_covariance = daily_covariance * 252 "
   ]
  },
  {
   "cell_type": "code",
   "execution_count": 15,
   "metadata": {},
   "outputs": [
    {
     "data": {
      "text/html": [
       "<div>\n",
       "<style scoped>\n",
       "    .dataframe tbody tr th:only-of-type {\n",
       "        vertical-align: middle;\n",
       "    }\n",
       "\n",
       "    .dataframe tbody tr th {\n",
       "        vertical-align: top;\n",
       "    }\n",
       "\n",
       "    .dataframe thead tr th {\n",
       "        text-align: left;\n",
       "    }\n",
       "\n",
       "    .dataframe thead tr:last-of-type th {\n",
       "        text-align: right;\n",
       "    }\n",
       "</style>\n",
       "<table border=\"1\" class=\"dataframe\">\n",
       "  <thead>\n",
       "    <tr>\n",
       "      <th></th>\n",
       "      <th></th>\n",
       "      <th colspan=\"5\" halign=\"left\">adj_close</th>\n",
       "    </tr>\n",
       "    <tr>\n",
       "      <th></th>\n",
       "      <th>ticker</th>\n",
       "      <th>GE</th>\n",
       "      <th>KO</th>\n",
       "      <th>MSFT</th>\n",
       "      <th>NVDA</th>\n",
       "      <th>PEP</th>\n",
       "    </tr>\n",
       "    <tr>\n",
       "      <th></th>\n",
       "      <th>ticker</th>\n",
       "      <th></th>\n",
       "      <th></th>\n",
       "      <th></th>\n",
       "      <th></th>\n",
       "      <th></th>\n",
       "    </tr>\n",
       "  </thead>\n",
       "  <tbody>\n",
       "    <tr>\n",
       "      <th rowspan=\"5\" valign=\"top\">adj_close</th>\n",
       "      <th>GE</th>\n",
       "      <td>1.569374e-04</td>\n",
       "      <td>7.089513e-08</td>\n",
       "      <td>-0.000005</td>\n",
       "      <td>0.000001</td>\n",
       "      <td>-0.000003</td>\n",
       "    </tr>\n",
       "    <tr>\n",
       "      <th>KO</th>\n",
       "      <td>7.089513e-08</td>\n",
       "      <td>3.192807e-05</td>\n",
       "      <td>0.000002</td>\n",
       "      <td>-0.000001</td>\n",
       "      <td>0.000022</td>\n",
       "    </tr>\n",
       "    <tr>\n",
       "      <th>MSFT</th>\n",
       "      <td>-5.255366e-06</td>\n",
       "      <td>1.878515e-06</td>\n",
       "      <td>0.000087</td>\n",
       "      <td>0.000079</td>\n",
       "      <td>0.000009</td>\n",
       "    </tr>\n",
       "    <tr>\n",
       "      <th>NVDA</th>\n",
       "      <td>1.414585e-06</td>\n",
       "      <td>-1.235003e-06</td>\n",
       "      <td>0.000079</td>\n",
       "      <td>0.000645</td>\n",
       "      <td>0.000005</td>\n",
       "    </tr>\n",
       "    <tr>\n",
       "      <th>PEP</th>\n",
       "      <td>-2.528260e-06</td>\n",
       "      <td>2.191693e-05</td>\n",
       "      <td>0.000009</td>\n",
       "      <td>0.000005</td>\n",
       "      <td>0.000037</td>\n",
       "    </tr>\n",
       "  </tbody>\n",
       "</table>\n",
       "</div>"
      ],
      "text/plain": [
       "                     adj_close                                            \n",
       "ticker                      GE            KO      MSFT      NVDA       PEP\n",
       "          ticker                                                          \n",
       "adj_close GE      1.569374e-04  7.089513e-08 -0.000005  0.000001 -0.000003\n",
       "          KO      7.089513e-08  3.192807e-05  0.000002 -0.000001  0.000022\n",
       "          MSFT   -5.255366e-06  1.878515e-06  0.000087  0.000079  0.000009\n",
       "          NVDA    1.414585e-06 -1.235003e-06  0.000079  0.000645  0.000005\n",
       "          PEP    -2.528260e-06  2.191693e-05  0.000009  0.000005  0.000037"
      ]
     },
     "execution_count": 15,
     "metadata": {},
     "output_type": "execute_result"
    }
   ],
   "source": [
    "# Here is what the daily covariance looks like\n",
    "daily_covariance.head()"
   ]
  },
  {
   "cell_type": "code",
   "execution_count": 16,
   "metadata": {},
   "outputs": [
    {
     "data": {
      "text/html": [
       "<div>\n",
       "<style scoped>\n",
       "    .dataframe tbody tr th:only-of-type {\n",
       "        vertical-align: middle;\n",
       "    }\n",
       "\n",
       "    .dataframe tbody tr th {\n",
       "        vertical-align: top;\n",
       "    }\n",
       "\n",
       "    .dataframe thead tr th {\n",
       "        text-align: left;\n",
       "    }\n",
       "\n",
       "    .dataframe thead tr:last-of-type th {\n",
       "        text-align: right;\n",
       "    }\n",
       "</style>\n",
       "<table border=\"1\" class=\"dataframe\">\n",
       "  <thead>\n",
       "    <tr>\n",
       "      <th></th>\n",
       "      <th></th>\n",
       "      <th colspan=\"5\" halign=\"left\">adj_close</th>\n",
       "    </tr>\n",
       "    <tr>\n",
       "      <th></th>\n",
       "      <th>ticker</th>\n",
       "      <th>GE</th>\n",
       "      <th>KO</th>\n",
       "      <th>MSFT</th>\n",
       "      <th>NVDA</th>\n",
       "      <th>PEP</th>\n",
       "    </tr>\n",
       "    <tr>\n",
       "      <th></th>\n",
       "      <th>ticker</th>\n",
       "      <th></th>\n",
       "      <th></th>\n",
       "      <th></th>\n",
       "      <th></th>\n",
       "      <th></th>\n",
       "    </tr>\n",
       "  </thead>\n",
       "  <tbody>\n",
       "    <tr>\n",
       "      <th rowspan=\"5\" valign=\"top\">adj_close</th>\n",
       "      <th>GE</th>\n",
       "      <td>0.039548</td>\n",
       "      <td>0.000018</td>\n",
       "      <td>-0.001324</td>\n",
       "      <td>0.000356</td>\n",
       "      <td>-0.000637</td>\n",
       "    </tr>\n",
       "    <tr>\n",
       "      <th>KO</th>\n",
       "      <td>0.000018</td>\n",
       "      <td>0.008046</td>\n",
       "      <td>0.000473</td>\n",
       "      <td>-0.000311</td>\n",
       "      <td>0.005523</td>\n",
       "    </tr>\n",
       "    <tr>\n",
       "      <th>MSFT</th>\n",
       "      <td>-0.001324</td>\n",
       "      <td>0.000473</td>\n",
       "      <td>0.022012</td>\n",
       "      <td>0.020000</td>\n",
       "      <td>0.002216</td>\n",
       "    </tr>\n",
       "    <tr>\n",
       "      <th>NVDA</th>\n",
       "      <td>0.000356</td>\n",
       "      <td>-0.000311</td>\n",
       "      <td>0.020000</td>\n",
       "      <td>0.162588</td>\n",
       "      <td>0.001275</td>\n",
       "    </tr>\n",
       "    <tr>\n",
       "      <th>PEP</th>\n",
       "      <td>-0.000637</td>\n",
       "      <td>0.005523</td>\n",
       "      <td>0.002216</td>\n",
       "      <td>0.001275</td>\n",
       "      <td>0.009422</td>\n",
       "    </tr>\n",
       "  </tbody>\n",
       "</table>\n",
       "</div>"
      ],
      "text/plain": [
       "                 adj_close                                        \n",
       "ticker                  GE        KO      MSFT      NVDA       PEP\n",
       "          ticker                                                  \n",
       "adj_close GE      0.039548  0.000018 -0.001324  0.000356 -0.000637\n",
       "          KO      0.000018  0.008046  0.000473 -0.000311  0.005523\n",
       "          MSFT   -0.001324  0.000473  0.022012  0.020000  0.002216\n",
       "          NVDA    0.000356 -0.000311  0.020000  0.162588  0.001275\n",
       "          PEP    -0.000637  0.005523  0.002216  0.001275  0.009422"
      ]
     },
     "execution_count": 16,
     "metadata": {},
     "output_type": "execute_result"
    }
   ],
   "source": [
    "# Here is what the annual covariance looks like\n",
    "annual_covariance.head()"
   ]
  },
  {
   "cell_type": "markdown",
   "metadata": {},
   "source": [
    "Moving on to the actual analysis, we will need 4 types of information to form our efficient frontier graph: \n",
    "\n",
    "- Portfolio Returns \n",
    "- Portfolio volatility\n",
    "- Sharpe Ratio \n",
    "- Weight of each stock \n",
    "\n",
    "Where each plot in our graph will be (x, y) -> (Volatility, Returns) of one combination of stocks (one portfolio).\n",
    "\n",
    "The weights of each stock is simply the percentage weight of the total amount of money you invest that you specifically put into the corresponding asset. In other words, the combined weights of all stocks must be equal to 1.\n",
    "\n",
    "We also add an additional metric called the Sharpe Ratio. Basically, Sharpe ratio is a measure of the performance of an investment's returns given its risk. Using the sharpe ratio makes it possible for us to compare different investment combinations on a scale that takes risk into account. \n",
    "\n",
    "The formula of Sharpe ratio is as follows: \n",
    "\n",
    "(Expected Return - Risk-free Rate of Return) / Portfolio Standard Deviation\n",
    "\n",
    "In this project, we will assume the risk-free rate of return to be 0 for simplification. The risk-free rate refers to the theoretical rate of return of an investment with ZERO risk. The closest we can get is the interest rate of government treasury bonds. If you want to change the risk-free rate to be higher than zero, all you need to do is change the formula in the Python implementation below (will be marked).\n",
    "\n",
    "Generally, a sharpe ratio of more than 1 is deemed \"acceptable\" to \"good\" by investors. A sharpe ratio of more than 2 is rated as \"very good\", and a sharpe ratio of more than 3 is rated as \"excellent\".\n",
    "\n",
    "Moving on, we will be creating the 4 types of information that we need as empty lists:"
   ]
  },
  {
   "cell_type": "code",
   "execution_count": 42,
   "metadata": {},
   "outputs": [],
   "source": [
    "portfolio_returns = []\n",
    "portfolio_volatility = []\n",
    "sharpe_ratio = []\n",
    "stock_weights = []"
   ]
  },
  {
   "cell_type": "markdown",
   "metadata": {},
   "source": [
    "Next, we specify the number of assets in our porfolio (take the length of the list of assets we created before) and we also specify that we want to make 50,000 asset combinations (portfolios) to create our efficient frontier graph."
   ]
  },
  {
   "cell_type": "code",
   "execution_count": 18,
   "metadata": {},
   "outputs": [],
   "source": [
    "num_assets = len(selected)\n",
    "num_portfolios = 50000"
   ]
  },
  {
   "cell_type": "markdown",
   "metadata": {},
   "source": [
    "We will also use Numpy to create a random seed. The purpose of a random seed is to replicate computations that uses random variables."
   ]
  },
  {
   "cell_type": "code",
   "execution_count": 19,
   "metadata": {},
   "outputs": [],
   "source": [
    "np.random.seed(101)"
   ]
  },
  {
   "cell_type": "markdown",
   "metadata": {},
   "source": [
    "Now, we will iterate through each asset combination within the 50,000 portfolios with different weights that we just created. In each iteration, we will compute the weights, returns, volatility and sharpe ratio of each portfolio. "
   ]
  },
  {
   "cell_type": "code",
   "execution_count": 21,
   "metadata": {},
   "outputs": [],
   "source": [
    "for single_portfolio in range(num_portfolios):\n",
    "    \n",
    "    weights = np.random.random(num_assets)\n",
    "    weights /= np.sum(weights)\n",
    "    \n",
    "    returns = np.dot(weights, annual_returns)\n",
    "    \n",
    "    volatility = np.sqrt(np.dot(weights.T, np.dot(annual_covariance, weights)))\n",
    "    \n",
    "    sharpe = returns / volatility # Modify this formula if you add risk-free rate to sharpe ratio formula\n",
    "    sharpe_ratio.append(sharpe)\n",
    "    \n",
    "    portfolio_returns.append(returns)\n",
    "    portfolio_volatility.append(volatility)\n",
    "    \n",
    "    stock_weights.append(weights)"
   ]
  },
  {
   "cell_type": "markdown",
   "metadata": {},
   "source": [
    "Let's break it down. \n",
    "\n",
    "For the weights, we will generate a random number from the number of assets (in this case 5) and then divide it by the sum of all weights, essentially creating a percentage value for the weight of each asset that sums up to 1. \n",
    "\n",
    "The returns will be a dot product of the weights and annual returns. To avoid making it complicated, a dot product here simply means that you take each corresponding value in the weights and annual returns list, multiply them, and add the results all together. \n",
    "\n",
    "Volatility (or standard deviation) is calculated as the square root of the covariance, but we have to be very careful with this calculation. In our case, we first take the dot product (explained above) of the annual covariance and the weights of each asset, then perform a dot product on THOSE results with the \"transposed\" weights of each asset in each portfolio.\n",
    "\n",
    "Lastly, we create the sharpe ratio formula (without the risk-free rate of return). \n",
    "\n",
    "Then, we append the results of each iteration to the corresponding four empty lists that we created before this loop."
   ]
  },
  {
   "cell_type": "markdown",
   "metadata": {},
   "source": [
    "Next, we want to create a table that shows us the returns, volatility, sharpe ratio and weights of each generated portfolio, which will involve several steps. \n",
    "\n",
    "The first one is to include create a dictionary with the portfolio returns, volatility and sharpe ratio that we just created using the for loop above."
   ]
  },
  {
   "cell_type": "code",
   "execution_count": 22,
   "metadata": {},
   "outputs": [],
   "source": [
    "portfolio = {'Returns': portfolio_returns,\n",
    "             'Volatility': portfolio_volatility,\n",
    "             'Sharpe Ratio': sharpe_ratio}"
   ]
  },
  {
   "cell_type": "markdown",
   "metadata": {},
   "source": [
    "We can further populate our Python dictionary with the weights of each stock in each portfolio. To do that, we create another for-loop that iterates through the list of selected assets. Inside the first for-loop, we create another for-loop that iterates through each stock_weights we have computed before (a total of 50,000). Therefore, we have 50,000 different versions of weights for each of the five stocks we have selected."
   ]
  },
  {
   "cell_type": "code",
   "execution_count": 24,
   "metadata": {},
   "outputs": [],
   "source": [
    "for counter,symbol in enumerate(selected):\n",
    "    portfolio[symbol+' Weight'] = [Weight[counter] for Weight in stock_weights]"
   ]
  },
  {
   "cell_type": "markdown",
   "metadata": {},
   "source": [
    "Finally, we turn the dictionary into a pandas dataframe that we can print out to check. We simply need to add the column names for each column as shown below, and print out the first 15 rows of data:"
   ]
  },
  {
   "cell_type": "code",
   "execution_count": 27,
   "metadata": {},
   "outputs": [
    {
     "data": {
      "text/html": [
       "<div>\n",
       "<style scoped>\n",
       "    .dataframe tbody tr th:only-of-type {\n",
       "        vertical-align: middle;\n",
       "    }\n",
       "\n",
       "    .dataframe tbody tr th {\n",
       "        vertical-align: top;\n",
       "    }\n",
       "\n",
       "    .dataframe thead th {\n",
       "        text-align: right;\n",
       "    }\n",
       "</style>\n",
       "<table border=\"1\" class=\"dataframe\">\n",
       "  <thead>\n",
       "    <tr style=\"text-align: right;\">\n",
       "      <th></th>\n",
       "      <th>Returns</th>\n",
       "      <th>Volatility</th>\n",
       "      <th>Sharpe Ratio</th>\n",
       "      <th>KO Weight</th>\n",
       "      <th>MSFT Weight</th>\n",
       "      <th>PEP Weight</th>\n",
       "      <th>GE Weight</th>\n",
       "      <th>NVDA Weight</th>\n",
       "    </tr>\n",
       "  </thead>\n",
       "  <tbody>\n",
       "    <tr>\n",
       "      <th>0</th>\n",
       "      <td>0.151119</td>\n",
       "      <td>0.134391</td>\n",
       "      <td>1.124467</td>\n",
       "      <td>0.283065</td>\n",
       "      <td>0.104199</td>\n",
       "      <td>0.303335</td>\n",
       "      <td>0.244927</td>\n",
       "      <td>0.064474</td>\n",
       "    </tr>\n",
       "    <tr>\n",
       "      <th>1</th>\n",
       "      <td>0.187102</td>\n",
       "      <td>0.129137</td>\n",
       "      <td>1.448869</td>\n",
       "      <td>0.195196</td>\n",
       "      <td>0.124019</td>\n",
       "      <td>0.064062</td>\n",
       "      <td>0.276685</td>\n",
       "      <td>0.340038</td>\n",
       "    </tr>\n",
       "    <tr>\n",
       "      <th>2</th>\n",
       "      <td>0.348406</td>\n",
       "      <td>0.177046</td>\n",
       "      <td>1.967881</td>\n",
       "      <td>0.120722</td>\n",
       "      <td>0.043415</td>\n",
       "      <td>0.313581</td>\n",
       "      <td>0.378758</td>\n",
       "      <td>0.143523</td>\n",
       "    </tr>\n",
       "    <tr>\n",
       "      <th>3</th>\n",
       "      <td>-0.107268</td>\n",
       "      <td>0.101201</td>\n",
       "      <td>-1.059955</td>\n",
       "      <td>0.434703</td>\n",
       "      <td>0.328493</td>\n",
       "      <td>0.030755</td>\n",
       "      <td>0.087453</td>\n",
       "      <td>0.118597</td>\n",
       "    </tr>\n",
       "    <tr>\n",
       "      <th>4</th>\n",
       "      <td>0.100717</td>\n",
       "      <td>0.118721</td>\n",
       "      <td>0.848348</td>\n",
       "      <td>0.295001</td>\n",
       "      <td>0.154475</td>\n",
       "      <td>0.171719</td>\n",
       "      <td>0.218011</td>\n",
       "      <td>0.160793</td>\n",
       "    </tr>\n",
       "    <tr>\n",
       "      <th>5</th>\n",
       "      <td>0.043555</td>\n",
       "      <td>0.085514</td>\n",
       "      <td>0.509330</td>\n",
       "      <td>0.265902</td>\n",
       "      <td>0.235259</td>\n",
       "      <td>0.117349</td>\n",
       "      <td>0.104020</td>\n",
       "      <td>0.277469</td>\n",
       "    </tr>\n",
       "    <tr>\n",
       "      <th>6</th>\n",
       "      <td>0.214449</td>\n",
       "      <td>0.095497</td>\n",
       "      <td>2.245604</td>\n",
       "      <td>0.098191</td>\n",
       "      <td>0.247197</td>\n",
       "      <td>0.237247</td>\n",
       "      <td>0.153776</td>\n",
       "      <td>0.263590</td>\n",
       "    </tr>\n",
       "    <tr>\n",
       "      <th>7</th>\n",
       "      <td>0.451723</td>\n",
       "      <td>0.208997</td>\n",
       "      <td>2.161381</td>\n",
       "      <td>0.049779</td>\n",
       "      <td>0.052701</td>\n",
       "      <td>0.359463</td>\n",
       "      <td>0.456296</td>\n",
       "      <td>0.081761</td>\n",
       "    </tr>\n",
       "    <tr>\n",
       "      <th>8</th>\n",
       "      <td>0.252037</td>\n",
       "      <td>0.136430</td>\n",
       "      <td>1.847379</td>\n",
       "      <td>0.119743</td>\n",
       "      <td>0.292213</td>\n",
       "      <td>0.071394</td>\n",
       "      <td>0.304762</td>\n",
       "      <td>0.211889</td>\n",
       "    </tr>\n",
       "    <tr>\n",
       "      <th>9</th>\n",
       "      <td>-0.020250</td>\n",
       "      <td>0.092091</td>\n",
       "      <td>-0.219893</td>\n",
       "      <td>0.332888</td>\n",
       "      <td>0.255065</td>\n",
       "      <td>0.021223</td>\n",
       "      <td>0.109517</td>\n",
       "      <td>0.281306</td>\n",
       "    </tr>\n",
       "    <tr>\n",
       "      <th>10</th>\n",
       "      <td>0.111946</td>\n",
       "      <td>0.072527</td>\n",
       "      <td>1.543511</td>\n",
       "      <td>0.121694</td>\n",
       "      <td>0.505349</td>\n",
       "      <td>0.139454</td>\n",
       "      <td>0.053361</td>\n",
       "      <td>0.180142</td>\n",
       "    </tr>\n",
       "    <tr>\n",
       "      <th>11</th>\n",
       "      <td>0.193035</td>\n",
       "      <td>0.097268</td>\n",
       "      <td>1.984563</td>\n",
       "      <td>0.137874</td>\n",
       "      <td>0.273519</td>\n",
       "      <td>0.295859</td>\n",
       "      <td>0.149031</td>\n",
       "      <td>0.143718</td>\n",
       "    </tr>\n",
       "    <tr>\n",
       "      <th>12</th>\n",
       "      <td>-0.074590</td>\n",
       "      <td>0.087158</td>\n",
       "      <td>-0.855798</td>\n",
       "      <td>0.360410</td>\n",
       "      <td>0.183577</td>\n",
       "      <td>0.066495</td>\n",
       "      <td>0.028899</td>\n",
       "      <td>0.360619</td>\n",
       "    </tr>\n",
       "    <tr>\n",
       "      <th>13</th>\n",
       "      <td>0.086007</td>\n",
       "      <td>0.092980</td>\n",
       "      <td>0.924999</td>\n",
       "      <td>0.252613</td>\n",
       "      <td>0.208449</td>\n",
       "      <td>0.202698</td>\n",
       "      <td>0.132040</td>\n",
       "      <td>0.204200</td>\n",
       "    </tr>\n",
       "    <tr>\n",
       "      <th>14</th>\n",
       "      <td>0.318293</td>\n",
       "      <td>0.154159</td>\n",
       "      <td>2.064709</td>\n",
       "      <td>0.093335</td>\n",
       "      <td>0.294479</td>\n",
       "      <td>0.236335</td>\n",
       "      <td>0.334014</td>\n",
       "      <td>0.041837</td>\n",
       "    </tr>\n",
       "  </tbody>\n",
       "</table>\n",
       "</div>"
      ],
      "text/plain": [
       "     Returns  Volatility  Sharpe Ratio  KO Weight  MSFT Weight  PEP Weight  \\\n",
       "0   0.151119    0.134391      1.124467   0.283065     0.104199    0.303335   \n",
       "1   0.187102    0.129137      1.448869   0.195196     0.124019    0.064062   \n",
       "2   0.348406    0.177046      1.967881   0.120722     0.043415    0.313581   \n",
       "3  -0.107268    0.101201     -1.059955   0.434703     0.328493    0.030755   \n",
       "4   0.100717    0.118721      0.848348   0.295001     0.154475    0.171719   \n",
       "5   0.043555    0.085514      0.509330   0.265902     0.235259    0.117349   \n",
       "6   0.214449    0.095497      2.245604   0.098191     0.247197    0.237247   \n",
       "7   0.451723    0.208997      2.161381   0.049779     0.052701    0.359463   \n",
       "8   0.252037    0.136430      1.847379   0.119743     0.292213    0.071394   \n",
       "9  -0.020250    0.092091     -0.219893   0.332888     0.255065    0.021223   \n",
       "10  0.111946    0.072527      1.543511   0.121694     0.505349    0.139454   \n",
       "11  0.193035    0.097268      1.984563   0.137874     0.273519    0.295859   \n",
       "12 -0.074590    0.087158     -0.855798   0.360410     0.183577    0.066495   \n",
       "13  0.086007    0.092980      0.924999   0.252613     0.208449    0.202698   \n",
       "14  0.318293    0.154159      2.064709   0.093335     0.294479    0.236335   \n",
       "\n",
       "    GE Weight  NVDA Weight  \n",
       "0    0.244927     0.064474  \n",
       "1    0.276685     0.340038  \n",
       "2    0.378758     0.143523  \n",
       "3    0.087453     0.118597  \n",
       "4    0.218011     0.160793  \n",
       "5    0.104020     0.277469  \n",
       "6    0.153776     0.263590  \n",
       "7    0.456296     0.081761  \n",
       "8    0.304762     0.211889  \n",
       "9    0.109517     0.281306  \n",
       "10   0.053361     0.180142  \n",
       "11   0.149031     0.143718  \n",
       "12   0.028899     0.360619  \n",
       "13   0.132040     0.204200  \n",
       "14   0.334014     0.041837  "
      ]
     },
     "execution_count": 27,
     "metadata": {},
     "output_type": "execute_result"
    }
   ],
   "source": [
    "df = pd.DataFrame(portfolio)\n",
    "# Name the columns\n",
    "column_order = ['Returns', 'Volatility', 'Sharpe Ratio'] + [stock+' Weight' for stock in selected]\n",
    "# Add the column names + data into the new dataframe\n",
    "df = df[column_order]\n",
    "\n",
    "# Let's check the data\n",
    "df.head(15)"
   ]
  },
  {
   "cell_type": "markdown",
   "metadata": {},
   "source": [
    "Here we can split the data into two types of efficient portfolios: \n",
    "\n",
    "1. We want the portfolio with the maximum expected returns given the minimum amount of risk taken (for investors with low level of risk tolerance). This takes the volatility (standard deviation) of the portfolio as the most important factor\n",
    "\n",
    "2. We want the portfolio with the maximum expected returns given any level of risk (for investors with highe level of risk tolerance). This takes the Sharpe ratio of the portfolio as the most important factor.\n",
    "\n",
    "For number 1, we simply need to find the smallest volatility value. For number 2, we find the highest sharpe ratio value. "
   ]
  },
  {
   "cell_type": "code",
   "execution_count": 28,
   "metadata": {},
   "outputs": [],
   "source": [
    "min_volatility = df['Volatility'].min()\n",
    "max_sharpe = df['Sharpe Ratio'].max()"
   ]
  },
  {
   "cell_type": "markdown",
   "metadata": {},
   "source": [
    "We then simply locate the two portfolios within our dataframe that each corresponds with these values."
   ]
  },
  {
   "cell_type": "code",
   "execution_count": 29,
   "metadata": {},
   "outputs": [],
   "source": [
    "sharpe_portfolio = df.loc[df['Sharpe Ratio'] == max_sharpe]\n",
    "min_variance_port = df.loc[df['Volatility'] == min_volatility]"
   ]
  },
  {
   "cell_type": "markdown",
   "metadata": {},
   "source": [
    "Finally, we plot these dataframes into the graph. We will not spend time defining the parameters for the style of the graph. The most important part is that as mentioned before, each plot in the graph (x, y) refers to (Volatility, Returns) of each portfolio. \n",
    "\n",
    "Furthermore, since we already have 2 kinds of portfolios (minimum volatility & maximum sharpe ratio), we can annotate them with a different color. In this case, the one with the lowest volatility is colored red, and the one with the highest sharpe ratio is colored blue. We also want to give a range of sharpe ratio from lowest to highest using some kind of heatmap, as shown in the graph below."
   ]
  },
  {
   "cell_type": "code",
   "execution_count": 33,
   "metadata": {},
   "outputs": [
    {
     "data": {
      "text/plain": [
       "Text(0.5,1,'Efficient Frontier')"
      ]
     },
     "execution_count": 33,
     "metadata": {},
     "output_type": "execute_result"
    },
    {
     "data": {
      "image/png": "[encoded data removed]",
      "text/plain": [
       "<matplotlib.figure.Figure at 0x116583f98>"
      ]
     },
     "metadata": {},
     "output_type": "display_data"
    }
   ],
   "source": [
    "plt.style.use('seaborn-dark')\n",
    "df.plot.scatter(x='Volatility', y='Returns', c='Sharpe Ratio',\n",
    "                cmap='RdYlGn', edgecolors='black', figsize=(10, 8), grid=True)\n",
    "plt.scatter(x=sharpe_portfolio['Volatility'], y=sharpe_portfolio['Returns'], c='red', marker='D', s=200)\n",
    "plt.scatter(x=min_variance_port['Volatility'], y=min_variance_port['Returns'], c='blue', marker='D', s=200 )\n",
    "plt.xlabel('Volatility (Std. Deviation)')\n",
    "plt.ylabel('Expected Returns')\n",
    "plt.title('Efficient Frontier')"
   ]
  },
  {
   "cell_type": "markdown",
   "metadata": {},
   "source": [
    "Finally, we print the details of two most efficient portfolios. The one that the investor chooses depends on his/her risk tolerance."
   ]
  },
  {
   "cell_type": "code",
   "execution_count": 36,
   "metadata": {},
   "outputs": [
    {
     "name": "stdout",
     "output_type": "stream",
     "text": [
      "Minimum Volatility Efficient Portfolio:\n"
     ]
    },
    {
     "data": {
      "text/html": [
       "<div>\n",
       "<style scoped>\n",
       "    .dataframe tbody tr th:only-of-type {\n",
       "        vertical-align: middle;\n",
       "    }\n",
       "\n",
       "    .dataframe tbody tr th {\n",
       "        vertical-align: top;\n",
       "    }\n",
       "\n",
       "    .dataframe thead th {\n",
       "        text-align: right;\n",
       "    }\n",
       "</style>\n",
       "<table border=\"1\" class=\"dataframe\">\n",
       "  <thead>\n",
       "    <tr style=\"text-align: right;\">\n",
       "      <th></th>\n",
       "      <th>47873</th>\n",
       "    </tr>\n",
       "  </thead>\n",
       "  <tbody>\n",
       "    <tr>\n",
       "      <th>Returns</th>\n",
       "      <td>0.095344</td>\n",
       "    </tr>\n",
       "    <tr>\n",
       "      <th>Volatility</th>\n",
       "      <td>0.070173</td>\n",
       "    </tr>\n",
       "    <tr>\n",
       "      <th>Sharpe Ratio</th>\n",
       "      <td>1.358691</td>\n",
       "    </tr>\n",
       "    <tr>\n",
       "      <th>KO Weight</th>\n",
       "      <td>0.123635</td>\n",
       "    </tr>\n",
       "    <tr>\n",
       "      <th>MSFT Weight</th>\n",
       "      <td>0.482410</td>\n",
       "    </tr>\n",
       "    <tr>\n",
       "      <th>PEP Weight</th>\n",
       "      <td>0.174215</td>\n",
       "    </tr>\n",
       "    <tr>\n",
       "      <th>GE Weight</th>\n",
       "      <td>0.013598</td>\n",
       "    </tr>\n",
       "    <tr>\n",
       "      <th>NVDA Weight</th>\n",
       "      <td>0.206143</td>\n",
       "    </tr>\n",
       "  </tbody>\n",
       "</table>\n",
       "</div>"
      ],
      "text/plain": [
       "                 47873\n",
       "Returns       0.095344\n",
       "Volatility    0.070173\n",
       "Sharpe Ratio  1.358691\n",
       "KO Weight     0.123635\n",
       "MSFT Weight   0.482410\n",
       "PEP Weight    0.174215\n",
       "GE Weight     0.013598\n",
       "NVDA Weight   0.206143"
      ]
     },
     "execution_count": 36,
     "metadata": {},
     "output_type": "execute_result"
    }
   ],
   "source": [
    "print(\"Minimum Volatility Efficient Portfolio:\")\n",
    "min_variance_port.T"
   ]
  },
  {
   "cell_type": "code",
   "execution_count": 37,
   "metadata": {
    "scrolled": true
   },
   "outputs": [
    {
     "name": "stdout",
     "output_type": "stream",
     "text": [
      "Maximum Sharpe Ratio Efficient Portfolio:\n"
     ]
    },
    {
     "data": {
      "text/html": [
       "<div>\n",
       "<style scoped>\n",
       "    .dataframe tbody tr th:only-of-type {\n",
       "        vertical-align: middle;\n",
       "    }\n",
       "\n",
       "    .dataframe tbody tr th {\n",
       "        vertical-align: top;\n",
       "    }\n",
       "\n",
       "    .dataframe thead th {\n",
       "        text-align: right;\n",
       "    }\n",
       "</style>\n",
       "<table border=\"1\" class=\"dataframe\">\n",
       "  <thead>\n",
       "    <tr style=\"text-align: right;\">\n",
       "      <th></th>\n",
       "      <th>31259</th>\n",
       "    </tr>\n",
       "  </thead>\n",
       "  <tbody>\n",
       "    <tr>\n",
       "      <th>Returns</th>\n",
       "      <td>0.275093</td>\n",
       "    </tr>\n",
       "    <tr>\n",
       "      <th>Volatility</th>\n",
       "      <td>0.092282</td>\n",
       "    </tr>\n",
       "    <tr>\n",
       "      <th>Sharpe Ratio</th>\n",
       "      <td>2.981018</td>\n",
       "    </tr>\n",
       "    <tr>\n",
       "      <th>KO Weight</th>\n",
       "      <td>0.000938</td>\n",
       "    </tr>\n",
       "    <tr>\n",
       "      <th>MSFT Weight</th>\n",
       "      <td>0.265382</td>\n",
       "    </tr>\n",
       "    <tr>\n",
       "      <th>PEP Weight</th>\n",
       "      <td>0.395600</td>\n",
       "    </tr>\n",
       "    <tr>\n",
       "      <th>GE Weight</th>\n",
       "      <td>0.086636</td>\n",
       "    </tr>\n",
       "    <tr>\n",
       "      <th>NVDA Weight</th>\n",
       "      <td>0.251444</td>\n",
       "    </tr>\n",
       "  </tbody>\n",
       "</table>\n",
       "</div>"
      ],
      "text/plain": [
       "                 31259\n",
       "Returns       0.275093\n",
       "Volatility    0.092282\n",
       "Sharpe Ratio  2.981018\n",
       "KO Weight     0.000938\n",
       "MSFT Weight   0.265382\n",
       "PEP Weight    0.395600\n",
       "GE Weight     0.086636\n",
       "NVDA Weight   0.251444"
      ]
     },
     "execution_count": 37,
     "metadata": {},
     "output_type": "execute_result"
    }
   ],
   "source": [
    "print(\"Maximum Sharpe Ratio Efficient Portfolio:\")\n",
    "sharpe_portfolio.T"
   ]
  },
  {
   "cell_type": "markdown",
   "metadata": {},
   "source": [
    "©Regio Abundan. May 29th, 2018."
   ]
  }
 ],
 "metadata": {
  "kernelspec": {
   "display_name": "Python 3",
   "language": "python",
   "name": "python3"
  },
  "language_info": {
   "codemirror_mode": {
    "name": "ipython",
    "version": 3
   },
   "file_extension": ".py",
   "mimetype": "text/x-python",
   "name": "python",
   "nbconvert_exporter": "python",
   "pygments_lexer": "ipython3",
   "version": "3.6.4"
  }
 },
 "nbformat": 4,
 "nbformat_minor": 2
}

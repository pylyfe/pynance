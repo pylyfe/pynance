{
 "cells": [
  {
   "cell_type": "markdown",
   "metadata": {},
   "source": [
    "# Charity Through Marginal Price Discrimination\n",
    "\n",
    "In this project we are going to explore and break down a very interesting post by Vitalik Buterin on his website:\n",
    "\n",
    "https://vitalik.ca/jekyll/general/2017/03/11/a_note_on_charity.html\n",
    "\n",
    "He believes that using marginal price discrimination, people can be incentivized (through social and economic pressures) to participate towards a certain cause. This is facilitated quite easily through the use of blockchain technology, where we can build an ecosystem of \"stickers\" (non-transferable digital tokens that organizations hand out to people who they think are contributing towards a worthy cause). \n",
    "\n",
    "Furthermore, being or working for a merchant that offers lower prices to sticker holders is enough to merit you one of these stickers. Buterin believes that by doing this it will make the scheme recursive. If an entire community approves of a particular cause, it will be profit-maximizing to start offering discounts for the associated sticker, causing everyone to maintain stable equilibrium in the level of spending and participation.\n",
    "\n",
    "To explore further, click on the link above on how Vitalik Buterin plans to implement this scheme. However, he also provides a Python script that shows an economic simulation described in the post, and we will break it down here.\n",
    "\n",
    "Buterin uses the example of sandwich buyers and sellers in the economic simulation. First assumption is that the cost of producing a sandwich is $6."
   ]
  },
  {
   "cell_type": "code",
   "execution_count": 1,
   "metadata": {},
   "outputs": [],
   "source": [
    "sandwich_production_cost = 6"
   ]
  },
  {
   "cell_type": "markdown",
   "metadata": {},
   "source": [
    "Now we will create a list of agents, who each have their own reserve price for a sandwhich, and a certain utility (in dollars, including any warm feelings gained from doing something altruistic) from volunteering in a charity. We will do this by creating a Python list with tuples inside, each tuple representing one agent."
   ]
  },
  {
   "cell_type": "code",
   "execution_count": 3,
   "metadata": {},
   "outputs": [],
   "source": [
    "agents = []\n",
    "\n",
    "for i in range(301): \n",
    "    for j in range(301):\n",
    "        agents.append((6.0001 + i * 0.01, -4.501 + j * 0.02))\n",
    "\n",
    "agents_sorted_by_charity_utility = sorted(agents, key = lambda f:f[1])"
   ]
  },
  {
   "cell_type": "markdown",
   "metadata": {},
   "source": [
    "Let's break this down. \n",
    "\n",
    "First, we create a huge list of agents, in this case, since we create a for-loop within a for-loop that iterates 301 times each, we create a total of: \n",
    "\n",
    "301 x 301 = 90601 agents\n",
    "\n",
    "Next, we see that for sandwich reserve price, it is evenly distributed between $6 - $9. To test it out put the first and last values of the iteration into the formula (note: index always starts at 0)\n",
    "\n",
    "- At i = 0, \n",
    "sandwich_reserve_price = 6.0001 + 0 * 0.01 = 6.0001\n",
    "- At i = 300, \n",
    "sandwich_reserve_price = 6.0001 + 300 * 0.01 = 9.0001\n",
    "\n",
    "Similarly, the charity utility is evenly distributed between -$4.5 - $1.5, because some people might actually have negative utility from having to volunteer in a charity (without incentive or reward)\n",
    "\n",
    "- At j = 0, \n",
    "charity_utility = -4.501 + 0 * 0.02 = -4.501\n",
    "- At j = 300,\n",
    "charity_utility = -4.501 + 300 * 0.02 = 1.499\n",
    "\n",
    "Lastly, we sort the agents by charity utility, as shown in the \"key = lambda f:f[1]\" paramater in sorted(), because charity_utility is in index 1 (second position) in each tuple.\n",
    "\n",
    "We can see also see that we have created a total of 90,601 agents"
   ]
  },
  {
   "cell_type": "code",
   "execution_count": 4,
   "metadata": {},
   "outputs": [
    {
     "data": {
      "text/plain": [
       "90601"
      ]
     },
     "execution_count": 4,
     "metadata": {},
     "output_type": "execute_result"
    }
   ],
   "source": [
    "len(agents_sorted_by_charity_utility)"
   ]
  },
  {
   "cell_type": "markdown",
   "metadata": {},
   "source": [
    "Now, we will create a function that outputs the amount of profit the merchant gets and the number of charity volunteers, given the parameters: \n",
    "\n",
    "- Price of sandwich for charity volunteers\n",
    "- Price of sandwich for non-volunteers "
   ]
  },
  {
   "cell_type": "code",
   "execution_count": 5,
   "metadata": {},
   "outputs": [],
   "source": [
    "def profit_and_charity_goers(sandwich_no_charity, sandwich_charity):\n",
    "    \n",
    "    # create variables to store totals of results \n",
    "    \n",
    "    charity_goers = 0\n",
    "    sandwich_buyers = 0 #both volunteers and non-volunteers\n",
    "    revenue = 0\n",
    "    \n",
    "    # Iterate through each agent in the \"agents\" list\n",
    "    \n",
    "    for (sandwich_reserve_price, charity_utility) in agents:\n",
    "        # Utility from doing neither buying a sandwich nor volunteering\n",
    "        u_do_nothing = 0\n",
    "        \n",
    "        # Utility from buying a sandwhich (without volunteering)\n",
    "        u_buy_sandwich = sandwich_reserve_price - sandwich_no_charity\n",
    "        \n",
    "        # Utility from going to charity (only)\n",
    "        u_charity = charity_utility\n",
    "        \n",
    "        # Utility from buying sandwich + charity\n",
    "        u_charity_plus_sandwich = charity_utility + sandwich_reserve_price - sandwich_charity\n",
    "        \n",
    "        # Now we find the max utility. If any utility within the ones we computed \n",
    "        # equals the max utility, means the action is taken \n",
    "        u_max = max(u_do_nothing, u_buy_sandwich, u_charity, u_charity_plus_sandwich)\n",
    "        \n",
    "        # In the iteration, does a particular agent volunteer at a charity?\n",
    "        if u_max in(u_charity, u_charity_plus_sandwich):\n",
    "            charity_goers += 1\n",
    "        \n",
    "        # In the iteration, does a particular agent buy a sandwich?\n",
    "        if u_max in(u_buy_sandwich, u_charity_plus_sandwich):\n",
    "            sandwich_buyers += 1\n",
    "            # Calculate revenue of merchant gained from selling sandwich\n",
    "            if u_charity_plus_sandwich == u_max:\n",
    "                revenue += sandwich_charity\n",
    "            else:\n",
    "                revenue += sandwich_no_charity\n",
    "        \n",
    "    # Profit = Revenue - Cost \n",
    "    profit = revenue - (sandwich_buyers * sandwich_production_cost)\n",
    "    \n",
    "    # Return profit for merchants & number of charity goers\n",
    "    return profit, charity_goers"
   ]
  },
  {
   "cell_type": "markdown",
   "metadata": {},
   "source": [
    "Now that we have made our function, we are ready to make comparisons between the normal, non-price-discriminating case of selling sandwiches vs. various degrees of discounts given to charity volunteers in the simulation (Note that our function will output a tuple).\n",
    "\n",
    "In this example, we will start with the original sandwich price of $7.5 and vary the price by:\n",
    "\n",
    "- Increase the price of each sandwich by a multiple of 2 cents for non-volunteers\n",
    "- Decrease the price of each sandwich by a multiple of 6 cents for charity volunteers"
   ]
  },
  {
   "cell_type": "code",
   "execution_count": 16,
   "metadata": {},
   "outputs": [
    {
     "name": "stdout",
     "output_type": "stream",
     "text": [
      "At prices ($ 7.50, $ 7.50)\n",
      "Net cost to merchant: $ 0.00\n",
      "Net gain in charity goers: 0 volunteers\n",
      "Cost of providing equipotent straight subsidy: $ 0.00\n",
      "At prices ($ 7.52, $ 7.44)\n",
      "Net cost to merchant: $ 60.66\n",
      "Net gain in charity goers: 612 volunteers\n",
      "Cost of providing equipotent straight subsidy: $ -1391.22\n",
      "At prices ($ 7.54, $ 7.38)\n",
      "Net cost to merchant: $ 243.96\n",
      "Net gain in charity goers: 1240 volunteers\n",
      "Cost of providing equipotent straight subsidy: $ -2381.50\n",
      "At prices ($ 7.56, $ 7.32)\n",
      "Net cost to merchant: $ 551.82\n",
      "Net gain in charity goers: 1884 volunteers\n",
      "Cost of providing equipotent straight subsidy: $ -3424.26\n",
      "At prices ($ 7.58, $ 7.26)\n",
      "Net cost to merchant: $ 986.16\n",
      "Net gain in charity goers: 2544 volunteers\n",
      "Cost of providing equipotent straight subsidy: $ -4521.42\n",
      "At prices ($ 7.60, $ 7.20)\n",
      "Net cost to merchant: $ 1548.90\n",
      "Net gain in charity goers: 3220 volunteers\n",
      "Cost of providing equipotent straight subsidy: $ -5674.90\n"
     ]
    }
   ],
   "source": [
    "# Start at the original price of $7.5 to calculate \n",
    "# original total profit and volunteers\n",
    "profit1, volunteers1 = profit_and_charity_goers(7.5, 7.5)\n",
    "\n",
    "# Loop six times (0-6) with different variations as stated above\n",
    "for i in range(6):\n",
    "    profit2, volunteers2 = profit_and_charity_goers(7.5 + i * 0.02, 7.5 - i * 0.06)\n",
    "    # Print results (floating point rounded to 2 decimals)\n",
    "    print('At prices ($ %.2f, $ %.2f)' % (7.5 + i * 0.02, 7.5 - i * 0.06))\n",
    "    print('Net cost to merchant: $ %.2f' % (profit1 - profit2))\n",
    "    print('Net gain in charity goers: %.0f volunteers' % (volunteers2 - volunteers1))\n",
    "    \n",
    "    # Equivalent subsidy size to get equal charity volunteers (explained more below)\n",
    "    equiv_subsidy_size = equiv_subsidy_size = agents_sorted_by_charity_utility[-volunteers2][1] - \\\n",
    "                         agents_sorted_by_charity_utility[-volunteers1][1]\n",
    "    \n",
    "    # Note that this subsidy would go to charity workers only\n",
    "    print('Cost of providing equipotent straight subsidy: $ %.2f'\n",
    "          % (equiv_subsidy_size * volunteers2))"
   ]
  },
  {
   "cell_type": "markdown",
   "metadata": {},
   "source": [
    "First we will go through one of these printed statements. \n",
    "\n",
    "At a price of 7.52 for non-volunteers and 7.44 for volunteers, the merchant loses only 60.66 in profit, but gives an incentive that is enough to add an additional 612 volunteers within 90,601 agents.\n",
    "\n",
    "Without this scheme, it will cost about 1,391.22 of government subsidy to provide the same incentive. Note that the list of agents are sorted form the lowest to highest charity utility. Therefore, we get this number by performing a few steps given in line 14 of the code above: \n",
    "\n",
    "1. Get the highest charity utility of the new number of volunteers (in dollars)\n",
    "\n",
    "2. Get the highest charity utility of the original number of volunteers (in dollars)\n",
    "\n",
    "3. Subtract them to get the \"cost\" of incentivizing more people to volunteer by only using government subsidy\n",
    "\n",
    "Lastly, since the incentive will only go to charity workers (and not spread out through the equilibrium like in the simulation), we multiply the incentive we get from the calculation in line 14 by the new number of volunteers (given in line 18)."
   ]
  },
  {
   "cell_type": "markdown",
   "metadata": {},
   "source": [
    "©Regio Abundan. May 29th, 2018."
   ]
  }
 ],
 "metadata": {
  "kernelspec": {
   "display_name": "Python 3",
   "language": "python",
   "name": "python3"
  },
  "language_info": {
   "codemirror_mode": {
    "name": "ipython",
    "version": 3
   },
   "file_extension": ".py",
   "mimetype": "text/x-python",
   "name": "python",
   "nbconvert_exporter": "python",
   "pygments_lexer": "ipython3",
   "version": "3.6.4"
  }
 },
 "nbformat": 4,
 "nbformat_minor": 2
}

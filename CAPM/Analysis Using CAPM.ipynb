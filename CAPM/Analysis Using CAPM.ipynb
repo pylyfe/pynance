{
 "cells": [
  {
   "cell_type": "markdown",
   "metadata": {},
   "source": [
    "# Analyzing NKE Using CAPM\n",
    "\n",
    "In this project we will be using the Capital Asset Pricing Model (CAPM) to analyze Nike. CAPM is a model that describes the relationship between systematic risk and expected return of an asset. The formula is given below: \n",
    "\n",
    "Expected Return = Risk-free Rate + Beta(Expected Market Return - Risk-free Rate)\n",
    "\n",
    "This looks very much like linear regression, and in fact we will be doing a regression analysis on Nike by comparing it with S&P 500 (market benchmark). \n",
    "\n",
    "In order to make things simple, the CSV files of both Nike and S&P 500 are available in this repo for download. The files include a one-month data for both (April to May 2018). \n",
    "\n",
    "First we will make the required imports. In this project we will only be using pandas to create our dataframe and analysis and statsmodels for the linear regression."
   ]
  },
  {
   "cell_type": "code",
   "execution_count": 67,
   "metadata": {
    "scrolled": true
   },
   "outputs": [],
   "source": [
    "import pandas as pd \n",
    "import statsmodels.api as sm"
   ]
  },
  {
   "cell_type": "markdown",
   "metadata": {},
   "source": [
    "Now we will load both CSV files by reading them using pandas. Note that we will be using the \"Date\" column as an index"
   ]
  },
  {
   "cell_type": "code",
   "execution_count": 86,
   "metadata": {},
   "outputs": [],
   "source": [
    "# Load Nike Data\n",
    "nike = pd.read_csv('NKE.csv', parse_dates = True, index_col = 'Date')\n",
    "\n",
    "# Load S&P 500 Data\n",
    "spy = pd.read_csv('^GSPC.csv', parse_dates = True, index_col = 'Date')"
   ]
  },
  {
   "cell_type": "markdown",
   "metadata": {},
   "source": [
    "We can check both dataframes to see what they look like. We will be printing the first 5 rows of each dataframe."
   ]
  },
  {
   "cell_type": "code",
   "execution_count": 87,
   "metadata": {
    "scrolled": true
   },
   "outputs": [
    {
     "data": {
      "text/html": [
       "<div>\n",
       "<style scoped>\n",
       "    .dataframe tbody tr th:only-of-type {\n",
       "        vertical-align: middle;\n",
       "    }\n",
       "\n",
       "    .dataframe tbody tr th {\n",
       "        vertical-align: top;\n",
       "    }\n",
       "\n",
       "    .dataframe thead th {\n",
       "        text-align: right;\n",
       "    }\n",
       "</style>\n",
       "<table border=\"1\" class=\"dataframe\">\n",
       "  <thead>\n",
       "    <tr style=\"text-align: right;\">\n",
       "      <th></th>\n",
       "      <th>Open</th>\n",
       "      <th>High</th>\n",
       "      <th>Low</th>\n",
       "      <th>Close</th>\n",
       "      <th>Adj Close</th>\n",
       "      <th>Volume</th>\n",
       "    </tr>\n",
       "    <tr>\n",
       "      <th>Date</th>\n",
       "      <th></th>\n",
       "      <th></th>\n",
       "      <th></th>\n",
       "      <th></th>\n",
       "      <th></th>\n",
       "      <th></th>\n",
       "    </tr>\n",
       "  </thead>\n",
       "  <tbody>\n",
       "    <tr>\n",
       "      <th>2018-04-13</th>\n",
       "      <td>68.120003</td>\n",
       "      <td>68.330002</td>\n",
       "      <td>66.980003</td>\n",
       "      <td>67.250000</td>\n",
       "      <td>67.250000</td>\n",
       "      <td>4300200</td>\n",
       "    </tr>\n",
       "    <tr>\n",
       "      <th>2018-04-16</th>\n",
       "      <td>67.809998</td>\n",
       "      <td>67.980003</td>\n",
       "      <td>67.059998</td>\n",
       "      <td>67.059998</td>\n",
       "      <td>67.059998</td>\n",
       "      <td>6484400</td>\n",
       "    </tr>\n",
       "    <tr>\n",
       "      <th>2018-04-17</th>\n",
       "      <td>67.370003</td>\n",
       "      <td>67.669998</td>\n",
       "      <td>67.279999</td>\n",
       "      <td>67.510002</td>\n",
       "      <td>67.510002</td>\n",
       "      <td>5605700</td>\n",
       "    </tr>\n",
       "    <tr>\n",
       "      <th>2018-04-18</th>\n",
       "      <td>67.529999</td>\n",
       "      <td>67.739998</td>\n",
       "      <td>66.160004</td>\n",
       "      <td>66.199997</td>\n",
       "      <td>66.199997</td>\n",
       "      <td>7384000</td>\n",
       "    </tr>\n",
       "    <tr>\n",
       "      <th>2018-04-19</th>\n",
       "      <td>66.029999</td>\n",
       "      <td>66.300003</td>\n",
       "      <td>64.989998</td>\n",
       "      <td>65.730003</td>\n",
       "      <td>65.730003</td>\n",
       "      <td>8274300</td>\n",
       "    </tr>\n",
       "  </tbody>\n",
       "</table>\n",
       "</div>"
      ],
      "text/plain": [
       "                 Open       High        Low      Close  Adj Close   Volume\n",
       "Date                                                                      \n",
       "2018-04-13  68.120003  68.330002  66.980003  67.250000  67.250000  4300200\n",
       "2018-04-16  67.809998  67.980003  67.059998  67.059998  67.059998  6484400\n",
       "2018-04-17  67.370003  67.669998  67.279999  67.510002  67.510002  5605700\n",
       "2018-04-18  67.529999  67.739998  66.160004  66.199997  66.199997  7384000\n",
       "2018-04-19  66.029999  66.300003  64.989998  65.730003  65.730003  8274300"
      ]
     },
     "execution_count": 87,
     "metadata": {},
     "output_type": "execute_result"
    }
   ],
   "source": [
    "nike.head()"
   ]
  },
  {
   "cell_type": "code",
   "execution_count": 88,
   "metadata": {},
   "outputs": [
    {
     "data": {
      "text/html": [
       "<div>\n",
       "<style scoped>\n",
       "    .dataframe tbody tr th:only-of-type {\n",
       "        vertical-align: middle;\n",
       "    }\n",
       "\n",
       "    .dataframe tbody tr th {\n",
       "        vertical-align: top;\n",
       "    }\n",
       "\n",
       "    .dataframe thead th {\n",
       "        text-align: right;\n",
       "    }\n",
       "</style>\n",
       "<table border=\"1\" class=\"dataframe\">\n",
       "  <thead>\n",
       "    <tr style=\"text-align: right;\">\n",
       "      <th></th>\n",
       "      <th>Open</th>\n",
       "      <th>High</th>\n",
       "      <th>Low</th>\n",
       "      <th>Close</th>\n",
       "      <th>Adj Close</th>\n",
       "      <th>Volume</th>\n",
       "    </tr>\n",
       "    <tr>\n",
       "      <th>Date</th>\n",
       "      <th></th>\n",
       "      <th></th>\n",
       "      <th></th>\n",
       "      <th></th>\n",
       "      <th></th>\n",
       "      <th></th>\n",
       "    </tr>\n",
       "  </thead>\n",
       "  <tbody>\n",
       "    <tr>\n",
       "      <th>2018-04-13</th>\n",
       "      <td>2676.899902</td>\n",
       "      <td>2680.260010</td>\n",
       "      <td>2645.050049</td>\n",
       "      <td>2656.300049</td>\n",
       "      <td>2656.300049</td>\n",
       "      <td>2960910000</td>\n",
       "    </tr>\n",
       "    <tr>\n",
       "      <th>2018-04-16</th>\n",
       "      <td>2670.100098</td>\n",
       "      <td>2686.489990</td>\n",
       "      <td>2665.159912</td>\n",
       "      <td>2677.840088</td>\n",
       "      <td>2677.840088</td>\n",
       "      <td>3019700000</td>\n",
       "    </tr>\n",
       "    <tr>\n",
       "      <th>2018-04-17</th>\n",
       "      <td>2692.739990</td>\n",
       "      <td>2713.340088</td>\n",
       "      <td>2692.050049</td>\n",
       "      <td>2706.389893</td>\n",
       "      <td>2706.389893</td>\n",
       "      <td>3234360000</td>\n",
       "    </tr>\n",
       "    <tr>\n",
       "      <th>2018-04-18</th>\n",
       "      <td>2710.110107</td>\n",
       "      <td>2717.489990</td>\n",
       "      <td>2703.629883</td>\n",
       "      <td>2708.639893</td>\n",
       "      <td>2708.639893</td>\n",
       "      <td>3383410000</td>\n",
       "    </tr>\n",
       "    <tr>\n",
       "      <th>2018-04-19</th>\n",
       "      <td>2701.159912</td>\n",
       "      <td>2702.840088</td>\n",
       "      <td>2681.899902</td>\n",
       "      <td>2693.129883</td>\n",
       "      <td>2693.129883</td>\n",
       "      <td>3349370000</td>\n",
       "    </tr>\n",
       "  </tbody>\n",
       "</table>\n",
       "</div>"
      ],
      "text/plain": [
       "                   Open         High          Low        Close    Adj Close  \\\n",
       "Date                                                                          \n",
       "2018-04-13  2676.899902  2680.260010  2645.050049  2656.300049  2656.300049   \n",
       "2018-04-16  2670.100098  2686.489990  2665.159912  2677.840088  2677.840088   \n",
       "2018-04-17  2692.739990  2713.340088  2692.050049  2706.389893  2706.389893   \n",
       "2018-04-18  2710.110107  2717.489990  2703.629883  2708.639893  2708.639893   \n",
       "2018-04-19  2701.159912  2702.840088  2681.899902  2693.129883  2693.129883   \n",
       "\n",
       "                Volume  \n",
       "Date                    \n",
       "2018-04-13  2960910000  \n",
       "2018-04-16  3019700000  \n",
       "2018-04-17  3234360000  \n",
       "2018-04-18  3383410000  \n",
       "2018-04-19  3349370000  "
      ]
     },
     "execution_count": 88,
     "metadata": {},
     "output_type": "execute_result"
    }
   ],
   "source": [
    "spy.head()"
   ]
  },
  {
   "cell_type": "markdown",
   "metadata": {},
   "source": [
    "In order to do our CAPM analysis using linear regression, the only columns we need from both dataframes are the \"Adjusted Close\" price columns. So what we are going to do is to only take these columns and put them in a new dataframe through \"concatenation\"."
   ]
  },
  {
   "cell_type": "code",
   "execution_count": 89,
   "metadata": {},
   "outputs": [
    {
     "data": {
      "text/html": [
       "<div>\n",
       "<style scoped>\n",
       "    .dataframe tbody tr th:only-of-type {\n",
       "        vertical-align: middle;\n",
       "    }\n",
       "\n",
       "    .dataframe tbody tr th {\n",
       "        vertical-align: top;\n",
       "    }\n",
       "\n",
       "    .dataframe thead th {\n",
       "        text-align: right;\n",
       "    }\n",
       "</style>\n",
       "<table border=\"1\" class=\"dataframe\">\n",
       "  <thead>\n",
       "    <tr style=\"text-align: right;\">\n",
       "      <th></th>\n",
       "      <th>NKE</th>\n",
       "      <th>SPY</th>\n",
       "    </tr>\n",
       "    <tr>\n",
       "      <th>Date</th>\n",
       "      <th></th>\n",
       "      <th></th>\n",
       "    </tr>\n",
       "  </thead>\n",
       "  <tbody>\n",
       "    <tr>\n",
       "      <th>2018-04-13</th>\n",
       "      <td>67.250000</td>\n",
       "      <td>2656.300049</td>\n",
       "    </tr>\n",
       "    <tr>\n",
       "      <th>2018-04-16</th>\n",
       "      <td>67.059998</td>\n",
       "      <td>2677.840088</td>\n",
       "    </tr>\n",
       "    <tr>\n",
       "      <th>2018-04-17</th>\n",
       "      <td>67.510002</td>\n",
       "      <td>2706.389893</td>\n",
       "    </tr>\n",
       "    <tr>\n",
       "      <th>2018-04-18</th>\n",
       "      <td>66.199997</td>\n",
       "      <td>2708.639893</td>\n",
       "    </tr>\n",
       "    <tr>\n",
       "      <th>2018-04-19</th>\n",
       "      <td>65.730003</td>\n",
       "      <td>2693.129883</td>\n",
       "    </tr>\n",
       "  </tbody>\n",
       "</table>\n",
       "</div>"
      ],
      "text/plain": [
       "                  NKE          SPY\n",
       "Date                              \n",
       "2018-04-13  67.250000  2656.300049\n",
       "2018-04-16  67.059998  2677.840088\n",
       "2018-04-17  67.510002  2706.389893\n",
       "2018-04-18  66.199997  2708.639893\n",
       "2018-04-19  65.730003  2693.129883"
      ]
     },
     "execution_count": 89,
     "metadata": {},
     "output_type": "execute_result"
    }
   ],
   "source": [
    "# Concatenate Adj Close columns in both dataframes\n",
    "df = pd.concat([nike['Close'], spy['Close']], axis=1)\n",
    "\n",
    "# Name the columns \n",
    "df.columns = ['NKE', 'SPY']\n",
    "\n",
    "# Let's check the data \n",
    "df.head()"
   ]
  },
  {
   "cell_type": "markdown",
   "metadata": {},
   "source": [
    "However, we are not done yet. The data that is required for our CAPM analysis must be in the form of percentage returns (since we want to know the expected returns of a particular stock). We can do this easily by using the \"pct_change\" module in pandas:"
   ]
  },
  {
   "cell_type": "code",
   "execution_count": 90,
   "metadata": {
    "scrolled": true
   },
   "outputs": [
    {
     "data": {
      "text/html": [
       "<div>\n",
       "<style scoped>\n",
       "    .dataframe tbody tr th:only-of-type {\n",
       "        vertical-align: middle;\n",
       "    }\n",
       "\n",
       "    .dataframe tbody tr th {\n",
       "        vertical-align: top;\n",
       "    }\n",
       "\n",
       "    .dataframe thead th {\n",
       "        text-align: right;\n",
       "    }\n",
       "</style>\n",
       "<table border=\"1\" class=\"dataframe\">\n",
       "  <thead>\n",
       "    <tr style=\"text-align: right;\">\n",
       "      <th></th>\n",
       "      <th>NKE</th>\n",
       "      <th>SPY</th>\n",
       "    </tr>\n",
       "    <tr>\n",
       "      <th>Date</th>\n",
       "      <th></th>\n",
       "      <th></th>\n",
       "    </tr>\n",
       "  </thead>\n",
       "  <tbody>\n",
       "    <tr>\n",
       "      <th>2018-04-13</th>\n",
       "      <td>NaN</td>\n",
       "      <td>NaN</td>\n",
       "    </tr>\n",
       "    <tr>\n",
       "      <th>2018-04-16</th>\n",
       "      <td>-0.002825</td>\n",
       "      <td>0.008109</td>\n",
       "    </tr>\n",
       "    <tr>\n",
       "      <th>2018-04-17</th>\n",
       "      <td>0.006710</td>\n",
       "      <td>0.010662</td>\n",
       "    </tr>\n",
       "    <tr>\n",
       "      <th>2018-04-18</th>\n",
       "      <td>-0.019405</td>\n",
       "      <td>0.000831</td>\n",
       "    </tr>\n",
       "    <tr>\n",
       "      <th>2018-04-19</th>\n",
       "      <td>-0.007100</td>\n",
       "      <td>-0.005726</td>\n",
       "    </tr>\n",
       "  </tbody>\n",
       "</table>\n",
       "</div>"
      ],
      "text/plain": [
       "                 NKE       SPY\n",
       "Date                          \n",
       "2018-04-13       NaN       NaN\n",
       "2018-04-16 -0.002825  0.008109\n",
       "2018-04-17  0.006710  0.010662\n",
       "2018-04-18 -0.019405  0.000831\n",
       "2018-04-19 -0.007100 -0.005726"
      ]
     },
     "execution_count": 90,
     "metadata": {},
     "output_type": "execute_result"
    }
   ],
   "source": [
    "returns = df.pct_change()\n",
    "\n",
    "# Let's check the data\n",
    "returns.head()"
   ]
  },
  {
   "cell_type": "markdown",
   "metadata": {},
   "source": [
    "One final touch: We see that the first row is NaN. This is because in order to calculate the percentage returns we need at least 2 days of data to make the comparison. However, we do not have any row above the first row inside any of our CSV files. In order to not let it interfere with our analysis, we will use the \"dropna\" module in pandas to remove values that are missing inside the dataframe."
   ]
  },
  {
   "cell_type": "code",
   "execution_count": 91,
   "metadata": {
    "scrolled": true
   },
   "outputs": [
    {
     "data": {
      "text/html": [
       "<div>\n",
       "<style scoped>\n",
       "    .dataframe tbody tr th:only-of-type {\n",
       "        vertical-align: middle;\n",
       "    }\n",
       "\n",
       "    .dataframe tbody tr th {\n",
       "        vertical-align: top;\n",
       "    }\n",
       "\n",
       "    .dataframe thead th {\n",
       "        text-align: right;\n",
       "    }\n",
       "</style>\n",
       "<table border=\"1\" class=\"dataframe\">\n",
       "  <thead>\n",
       "    <tr style=\"text-align: right;\">\n",
       "      <th></th>\n",
       "      <th>NKE</th>\n",
       "      <th>SPY</th>\n",
       "    </tr>\n",
       "    <tr>\n",
       "      <th>Date</th>\n",
       "      <th></th>\n",
       "      <th></th>\n",
       "    </tr>\n",
       "  </thead>\n",
       "  <tbody>\n",
       "    <tr>\n",
       "      <th>2018-04-16</th>\n",
       "      <td>-0.002825</td>\n",
       "      <td>0.008109</td>\n",
       "    </tr>\n",
       "    <tr>\n",
       "      <th>2018-04-17</th>\n",
       "      <td>0.006710</td>\n",
       "      <td>0.010662</td>\n",
       "    </tr>\n",
       "    <tr>\n",
       "      <th>2018-04-18</th>\n",
       "      <td>-0.019405</td>\n",
       "      <td>0.000831</td>\n",
       "    </tr>\n",
       "    <tr>\n",
       "      <th>2018-04-19</th>\n",
       "      <td>-0.007100</td>\n",
       "      <td>-0.005726</td>\n",
       "    </tr>\n",
       "    <tr>\n",
       "      <th>2018-04-20</th>\n",
       "      <td>0.005477</td>\n",
       "      <td>-0.008537</td>\n",
       "    </tr>\n",
       "  </tbody>\n",
       "</table>\n",
       "</div>"
      ],
      "text/plain": [
       "                 NKE       SPY\n",
       "Date                          \n",
       "2018-04-16 -0.002825  0.008109\n",
       "2018-04-17  0.006710  0.010662\n",
       "2018-04-18 -0.019405  0.000831\n",
       "2018-04-19 -0.007100 -0.005726\n",
       "2018-04-20  0.005477 -0.008537"
      ]
     },
     "execution_count": 91,
     "metadata": {},
     "output_type": "execute_result"
    }
   ],
   "source": [
    "returns = returns.dropna(axis = 0)\n",
    "\n",
    "# Let's check the data\n",
    "returns.head()"
   ]
  },
  {
   "cell_type": "markdown",
   "metadata": {},
   "source": [
    "We are finally ready to perform our analysis. Recall that the dependent variable in our case is the expected returns of Nike, while the independent variable is the market benchmark (S&P 500). \n",
    "\n",
    "If you recall the formula for linear regression, we also need to include a constant (Alpha) inside, and that is why we will be using statsmodels to add constants to each return of S&P 500. The effects of adding constants are printed below:"
   ]
  },
  {
   "cell_type": "code",
   "execution_count": 92,
   "metadata": {
    "scrolled": true
   },
   "outputs": [
    {
     "name": "stdout",
     "output_type": "stream",
     "text": [
      "sm.add_constant Effect: \n",
      "            const       SPY\n",
      "Date                       \n",
      "2018-04-16    1.0  0.008109\n",
      "2018-04-17    1.0  0.010662\n",
      "2018-04-18    1.0  0.000831\n",
      "2018-04-19    1.0 -0.005726\n",
      "2018-04-20    1.0 -0.008537\n"
     ]
    }
   ],
   "source": [
    "y = returns['NKE']\n",
    "x = returns['SPY']\n",
    "x1 = sm.add_constant(x)\n",
    "\n",
    "# Show the effect of adding constants using statsmodels (add a column of 1s to the dataframe)\n",
    "print(\"sm.add_constant Effect: \")\n",
    "print(x1[:5]) # Only print the first 5 rows"
   ]
  },
  {
   "cell_type": "markdown",
   "metadata": {},
   "source": [
    "Finally, the method for performing linear regression in statsmodels is called the \"Ordinary Least Squares\" (OLS). We will perform them using NKE (y) as the dependent variable and the modified S&P 500 (x1) as the independent variable. \n",
    "\n",
    "We will then fit the results into a variable and print a summary of it to see what we get. "
   ]
  },
  {
   "cell_type": "code",
   "execution_count": 93,
   "metadata": {},
   "outputs": [
    {
     "data": {
      "text/html": [
       "<table class=\"simpletable\">\n",
       "<caption>OLS Regression Results</caption>\n",
       "<tr>\n",
       "  <th>Dep. Variable:</th>           <td>NKE</td>       <th>  R-squared:         </th> <td>   0.110</td>\n",
       "</tr>\n",
       "<tr>\n",
       "  <th>Model:</th>                   <td>OLS</td>       <th>  Adj. R-squared:    </th> <td>   0.060</td>\n",
       "</tr>\n",
       "<tr>\n",
       "  <th>Method:</th>             <td>Least Squares</td>  <th>  F-statistic:       </th> <td>   2.222</td>\n",
       "</tr>\n",
       "<tr>\n",
       "  <th>Date:</th>             <td>Wed, 30 May 2018</td> <th>  Prob (F-statistic):</th>  <td> 0.153</td> \n",
       "</tr>\n",
       "<tr>\n",
       "  <th>Time:</th>                 <td>17:09:26</td>     <th>  Log-Likelihood:    </th> <td>  60.166</td>\n",
       "</tr>\n",
       "<tr>\n",
       "  <th>No. Observations:</th>      <td>    20</td>      <th>  AIC:               </th> <td>  -116.3</td>\n",
       "</tr>\n",
       "<tr>\n",
       "  <th>Df Residuals:</th>          <td>    18</td>      <th>  BIC:               </th> <td>  -114.3</td>\n",
       "</tr>\n",
       "<tr>\n",
       "  <th>Df Model:</th>              <td>     1</td>      <th>                     </th>     <td> </td>   \n",
       "</tr>\n",
       "<tr>\n",
       "  <th>Covariance Type:</th>      <td>nonrobust</td>    <th>                     </th>     <td> </td>   \n",
       "</tr>\n",
       "</table>\n",
       "<table class=\"simpletable\">\n",
       "<tr>\n",
       "    <td></td>       <th>coef</th>     <th>std err</th>      <th>t</th>      <th>P>|t|</th>  <th>[0.025</th>    <th>0.975]</th>  \n",
       "</tr>\n",
       "<tr>\n",
       "  <th>const</th> <td>    0.0002</td> <td>    0.003</td> <td>    0.056</td> <td> 0.956</td> <td>   -0.006</td> <td>    0.006</td>\n",
       "</tr>\n",
       "<tr>\n",
       "  <th>SPY</th>   <td>    0.5842</td> <td>    0.392</td> <td>    1.491</td> <td> 0.153</td> <td>   -0.239</td> <td>    1.407</td>\n",
       "</tr>\n",
       "</table>\n",
       "<table class=\"simpletable\">\n",
       "<tr>\n",
       "  <th>Omnibus:</th>       <td> 2.627</td> <th>  Durbin-Watson:     </th> <td>   1.921</td>\n",
       "</tr>\n",
       "<tr>\n",
       "  <th>Prob(Omnibus):</th> <td> 0.269</td> <th>  Jarque-Bera (JB):  </th> <td>   1.158</td>\n",
       "</tr>\n",
       "<tr>\n",
       "  <th>Skew:</th>          <td>-0.001</td> <th>  Prob(JB):          </th> <td>   0.560</td>\n",
       "</tr>\n",
       "<tr>\n",
       "  <th>Kurtosis:</th>      <td> 1.821</td> <th>  Cond. No.          </th> <td>    139.</td>\n",
       "</tr>\n",
       "</table>"
      ],
      "text/plain": [
       "<class 'statsmodels.iolib.summary.Summary'>\n",
       "\"\"\"\n",
       "                            OLS Regression Results                            \n",
       "==============================================================================\n",
       "Dep. Variable:                    NKE   R-squared:                       0.110\n",
       "Model:                            OLS   Adj. R-squared:                  0.060\n",
       "Method:                 Least Squares   F-statistic:                     2.222\n",
       "Date:                Wed, 30 May 2018   Prob (F-statistic):              0.153\n",
       "Time:                        17:09:26   Log-Likelihood:                 60.166\n",
       "No. Observations:                  20   AIC:                            -116.3\n",
       "Df Residuals:                      18   BIC:                            -114.3\n",
       "Df Model:                           1                                         \n",
       "Covariance Type:            nonrobust                                         \n",
       "==============================================================================\n",
       "                 coef    std err          t      P>|t|      [0.025      0.975]\n",
       "------------------------------------------------------------------------------\n",
       "const          0.0002      0.003      0.056      0.956      -0.006       0.006\n",
       "SPY            0.5842      0.392      1.491      0.153      -0.239       1.407\n",
       "==============================================================================\n",
       "Omnibus:                        2.627   Durbin-Watson:                   1.921\n",
       "Prob(Omnibus):                  0.269   Jarque-Bera (JB):                1.158\n",
       "Skew:                          -0.001   Prob(JB):                        0.560\n",
       "Kurtosis:                       1.821   Cond. No.                         139.\n",
       "==============================================================================\n",
       "\n",
       "Warnings:\n",
       "[1] Standard Errors assume that the covariance matrix of the errors is correctly specified.\n",
       "\"\"\""
      ]
     },
     "execution_count": 93,
     "metadata": {},
     "output_type": "execute_result"
    }
   ],
   "source": [
    "linreg = sm.OLS(y, x1)\n",
    "\n",
    "# Put results of linear regression inside \n",
    "results = linreg.fit()\n",
    "\n",
    "# Get summary of our results printed \n",
    "results.summary()"
   ]
  },
  {
   "cell_type": "markdown",
   "metadata": {},
   "source": [
    "So here we see that the Beta value of this formula is 0.5842 (shown in the table with \"coeff\" information) and the Alpha is 0.0002 (\"constant\").\n",
    "\n",
    "Let's compare it to a screenshot from Yahoo Finance: "
   ]
  },
  {
   "cell_type": "code",
   "execution_count": 96,
   "metadata": {},
   "outputs": [
    {
     "data": {
      "image/png": "[encoded data removed]",
      "text/plain": [
       "<IPython.core.display.Image object>"
      ]
     },
     "execution_count": 96,
     "metadata": {},
     "output_type": "execute_result"
    }
   ],
   "source": [
    "from IPython.display import Image\n",
    "Image(\"nike.png\")"
   ]
  },
  {
   "cell_type": "markdown",
   "metadata": {},
   "source": [
    "©Regio Abundan. May 30th 2018."
   ]
  }
 ],
 "metadata": {
  "kernelspec": {
   "display_name": "Python 3",
   "language": "python",
   "name": "python3"
  },
  "language_info": {
   "codemirror_mode": {
    "name": "ipython",
    "version": 3
   },
   "file_extension": ".py",
   "mimetype": "text/x-python",
   "name": "python",
   "nbconvert_exporter": "python",
   "pygments_lexer": "ipython3",
   "version": "3.6.4"
  }
 },
 "nbformat": 4,
 "nbformat_minor": 2
}

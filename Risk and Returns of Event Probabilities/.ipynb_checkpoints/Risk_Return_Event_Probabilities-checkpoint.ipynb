{
 "cells": [
  {
   "cell_type": "markdown",
   "metadata": {},
   "source": [
    "# Assessing Risk and Returns of Event Probabilities\n",
    "\n",
    "In this project we will be analyzing the risk and returns of a single asset in various events, using probabilities. There are various situations in which an investor must look at different scenarios of an event when making investment decisions. Therefore, being able to run simulations on different scenarios is a very important skill to have in finance. \n",
    "\n",
    "The three most important scenarios are: \n",
    "\n",
    "1. Economic Boom \n",
    "2. Normal State \n",
    "3. Economic Recess\n",
    "\n",
    "We will see an example table of these scenarios before we start with our analysis."
   ]
  },
  {
   "cell_type": "code",
   "execution_count": 18,
   "metadata": {},
   "outputs": [
    {
     "data": {
      "text/html": [
       "<div>\n",
       "<style scoped>\n",
       "    .dataframe tbody tr th:only-of-type {\n",
       "        vertical-align: middle;\n",
       "    }\n",
       "\n",
       "    .dataframe tbody tr th {\n",
       "        vertical-align: top;\n",
       "    }\n",
       "\n",
       "    .dataframe thead th {\n",
       "        text-align: right;\n",
       "    }\n",
       "</style>\n",
       "<table border=\"1\" class=\"dataframe\">\n",
       "  <thead>\n",
       "    <tr style=\"text-align: right;\">\n",
       "      <th></th>\n",
       "      <th>0</th>\n",
       "      <th>1</th>\n",
       "      <th>2</th>\n",
       "      <th>3</th>\n",
       "    </tr>\n",
       "  </thead>\n",
       "  <tbody>\n",
       "    <tr>\n",
       "      <th>0</th>\n",
       "      <td>Market Condition</td>\n",
       "      <td>Probability</td>\n",
       "      <td>Return 1</td>\n",
       "      <td>Return 2</td>\n",
       "    </tr>\n",
       "    <tr>\n",
       "      <th>1</th>\n",
       "      <td>Economic Boom</td>\n",
       "      <td>0.25</td>\n",
       "      <td>0.05</td>\n",
       "      <td>0.2</td>\n",
       "    </tr>\n",
       "    <tr>\n",
       "      <th>2</th>\n",
       "      <td>Normal Condition</td>\n",
       "      <td>0.5</td>\n",
       "      <td>0.075</td>\n",
       "      <td>0.15</td>\n",
       "    </tr>\n",
       "    <tr>\n",
       "      <th>3</th>\n",
       "      <td>Economic Recession</td>\n",
       "      <td>0.25</td>\n",
       "      <td>0.1</td>\n",
       "      <td>0.1</td>\n",
       "    </tr>\n",
       "  </tbody>\n",
       "</table>\n",
       "</div>"
      ],
      "text/plain": [
       "                    0            1         2         3\n",
       "0    Market Condition  Probability  Return 1  Return 2\n",
       "1       Economic Boom         0.25      0.05       0.2\n",
       "2    Normal Condition          0.5     0.075      0.15\n",
       "3  Economic Recession         0.25       0.1       0.1"
      ]
     },
     "execution_count": 18,
     "metadata": {},
     "output_type": "execute_result"
    }
   ],
   "source": [
    "import pandas as pd # To create our table of data\n",
    "\n",
    "data_list = [['Market Condition', 'Probability', 'Return 1', 'Return 2'],\n",
    "                 ['Economic Boom', 0.25, 0.05, 0.2],\n",
    "                 ['Normal Condition', 0.5, 0.075, 0.15],\n",
    "                 ['Economic Recession', 0.25, 0.1, 0.1]]\n",
    "data_table = pd.DataFrame(data_list)\n",
    "\n",
    "# Print out our results\n",
    "data_table.head()"
   ]
  },
  {
   "cell_type": "markdown",
   "metadata": {},
   "source": [
    "With the data on this table, we can calculate the expected returns of the asset given the probability of each of the three scenarios happening. \n",
    "\n",
    "We can do this using the formula: \n",
    "\n",
    "Expected Return = Sum(Probability of i x Return of i)\n",
    "\n",
    "We are going to do exactly that using Numpy."
   ]
  },
  {
   "cell_type": "code",
   "execution_count": 50,
   "metadata": {},
   "outputs": [],
   "source": [
    "import numpy as np # Calculation purposes \n",
    "\n",
    "# Store each data in their respective variables \n",
    "probabilities = np.array([0.25, 0.5, 0.25])\n",
    "rate_of_return_1 = np.array([0.05, 0.075, 0.1])\n",
    "rate_of_return_2 = np.array([0.2, 0.15, 0.1])"
   ]
  },
  {
   "cell_type": "markdown",
   "metadata": {},
   "source": [
    "Now we are going to calculate the expected returns 1 and 2 using the formula above (multiplying the rates of return with the probabilities of each of the three scenarios)."
   ]
  },
  {
   "cell_type": "code",
   "execution_count": 65,
   "metadata": {},
   "outputs": [
    {
     "name": "stdout",
     "output_type": "stream",
     "text": [
      "Expected Return 1: 7.5%\n",
      "Expected Return 2: 15.0%\n"
     ]
    }
   ],
   "source": [
    "# Expected return of each investment \n",
    "expected_return_1 = np.sum(probabilities * rate_of_return_1)\n",
    "expected_return_2 = np.sum(probabilities * rate_of_return_2)\n",
    "\n",
    "# Create a function to give a percentage value for our results\n",
    "def percentage(number):\n",
    "    return str(round(number, 5) * 100) + '%'\n",
    "\n",
    "# Print the results out for us to see \n",
    "print('Expected Return 1: {}'.format(percentage(expected_return_1)))\n",
    "print('Expected Return 2: {}'.format(percentage(expected_return_2)))"
   ]
  },
  {
   "cell_type": "markdown",
   "metadata": {},
   "source": [
    "Now that we know the expected return of each asset, we turn our attention to creating a portfolio with these 2 assets. For the sake of simplicity, we will assign weights of 50% for each asset in the portfolio. \n",
    "\n",
    "We are able to calculate the expected return of the portfolio using the following formula: \n",
    "\n",
    "Expected Return of Portfolio = Sum(Weight i x Return of asset i)\n",
    "\n",
    "This means that we will have to take the dot product of the weights and the individual asset returns to get the expected return of the portfolio."
   ]
  },
  {
   "cell_type": "code",
   "execution_count": 66,
   "metadata": {},
   "outputs": [
    {
     "name": "stdout",
     "output_type": "stream",
     "text": [
      "Expected Portfolio Return: 11.25%\n"
     ]
    }
   ],
   "source": [
    "# Assign equal weights for each asset in portfolio \n",
    "weights = np.array([0.5, 0.5])\n",
    "\n",
    "# Put the assets together in a Numpy array \n",
    "asset_returns = np.array([expected_return_1, expected_return_2])\n",
    "\n",
    "# Perform dot product to get expected portfolio return \n",
    "portfolio_return = np.dot(weights, asset_returns)\n",
    "\n",
    "# Print out the result \n",
    "print(\"Expected Portfolio Return: {}\".format(percentage(portfolio_return)))"
   ]
  },
  {
   "cell_type": "markdown",
   "metadata": {},
   "source": [
    "Lastly, we find the covariance of the two portfolios to get to both the correlation and volatility. Numpy provides a very convenient method of computing covariance."
   ]
  },
  {
   "cell_type": "code",
   "execution_count": 67,
   "metadata": {},
   "outputs": [
    {
     "name": "stdout",
     "output_type": "stream",
     "text": [
      "[[ 0.0005 -0.001 ]\n",
      " [-0.001   0.002 ]]\n"
     ]
    }
   ],
   "source": [
    "covariance_matrix = np.cov(rate_of_return_1, rate_of_return_2, ddof = 1, aweights = probabilities)\n",
    "\n",
    "# Let's print out the matrix\n",
    "print(covariance_matrix)"
   ]
  },
  {
   "cell_type": "markdown",
   "metadata": {},
   "source": [
    "Notes for np.cov(): \n",
    "\n",
    "- ddof: delta degrees of freedom. The number of values in the final calculation of a statistic that are free to vary.\n",
    "- aweights: 1-D array of observation vector weights. If ddof=0 the array of weights can be used to assign probabilities to observation vectors."
   ]
  },
  {
   "cell_type": "markdown",
   "metadata": {},
   "source": [
    "Now that we have the covariance, we can calculate the variance and volatility respectively. \n",
    "\n",
    "The variance of an asset is simply the covariance of its returns WITH its returns. \n",
    "\n",
    "The volatility (standard deviation) of an asset is simply the square root of its variance. "
   ]
  },
  {
   "cell_type": "code",
   "execution_count": 68,
   "metadata": {},
   "outputs": [
    {
     "name": "stdout",
     "output_type": "stream",
     "text": [
      "Variance of Asset 1: 0.0005\n",
      "Variance of Asset 2: 0.002\n"
     ]
    }
   ],
   "source": [
    "# Calculate the variance \n",
    "variance1 = covariance_matrix[0,0]\n",
    "variance2 = covariance_matrix[1,1]\n",
    "\n",
    "# Print out the variances\n",
    "print(\"Variance of Asset 1: {}\".format(round(variance1, 5)))\n",
    "print(\"Variance of Asset 2: {}\".format(round(variance2, 5)))"
   ]
  },
  {
   "cell_type": "code",
   "execution_count": 72,
   "metadata": {},
   "outputs": [
    {
     "name": "stdout",
     "output_type": "stream",
     "text": [
      "Volatility of Asset 1: 2.236%\n",
      "Volatility of Asset 2: 4.472%\n"
     ]
    }
   ],
   "source": [
    "# Calculate the volatility\n",
    "standard_deviation_1 = np.sqrt(variance1)\n",
    "standard_deviation_2 = np.sqrt(variance2)\n",
    "\n",
    "# Print out the volatilities\n",
    "print(\"Volatility of Asset 1: {}\".format(percentage(standard_deviation_1)))\n",
    "print(\"Volatility of Asset 2: {}\".format(percentage(standard_deviation_2)))"
   ]
  },
  {
   "cell_type": "markdown",
   "metadata": {},
   "source": [
    "We can also calculate the correlation between the returns of Asset 1 and 2 using the covariance matrix. The formula for correlation is: \n",
    "\n",
    "covariance matrix / (volatility of asset 1 x volatility of asset 2)"
   ]
  },
  {
   "cell_type": "code",
   "execution_count": 73,
   "metadata": {},
   "outputs": [
    {
     "name": "stdout",
     "output_type": "stream",
     "text": [
      "Covariance Value Used: -0.001\n",
      "Correlation: -1.0\n"
     ]
    }
   ],
   "source": [
    "# Get the covariance value we want to use\n",
    "covariance_value_used = covariance_matrix[0,1]\n",
    "print(\"Covariance Value Used: {}\".format(round(covariance_value_used, 5)))\n",
    "\n",
    "# Get the correlation of Asset 1 and Asset 2 returns\n",
    "correlation = covariance_value_used / (standard_deviation_1 * standard_deviation_2)\n",
    "print(\"Correlation: {}\".format(round(correlation, 5)))"
   ]
  },
  {
   "cell_type": "markdown",
   "metadata": {},
   "source": [
    "Now we will get the variance of the portfolio. The formula that we will use is a matrix multiplication between the covariance matrix and the weights, which involves a dot product.\n",
    "\n",
    "Portfolio Variance = Weights Transposed(Weights * Covariance Matrix)\n",
    "\n",
    "Finally, the standard deviation (volatility) of the portfolio will simply be the square root of the portfolio variance that we get."
   ]
  },
  {
   "cell_type": "code",
   "execution_count": 74,
   "metadata": {},
   "outputs": [
    {
     "name": "stdout",
     "output_type": "stream",
     "text": [
      "Portfolio Variance: 0.00013\n",
      "Portfolio Volatility(Risk): 1.118%\n"
     ]
    }
   ],
   "source": [
    "# Calculate the variance of the portfolio \n",
    "portfolio_variance = np.dot(weights.T, np.dot(covariance_matrix, weights))\n",
    "print(\"Portfolio Variance: {}\".format(round(portfolio_variance, 5)))\n",
    "\n",
    "# Calculate the volatility of the portfolio \n",
    "portfolio_volatility = np.sqrt(portfolio_variance)\n",
    "print(\"Portfolio Volatility(Risk): {}\".format(percentage(portfolio_volatility)))"
   ]
  },
  {
   "cell_type": "markdown",
   "metadata": {},
   "source": [
    "©Regio Abundan. June 5th, 2018."
   ]
  }
 ],
 "metadata": {
  "kernelspec": {
   "display_name": "Python 3",
   "language": "python",
   "name": "python3"
  },
  "language_info": {
   "codemirror_mode": {
    "name": "ipython",
    "version": 3
   },
   "file_extension": ".py",
   "mimetype": "text/x-python",
   "name": "python",
   "nbconvert_exporter": "python",
   "pygments_lexer": "ipython3",
   "version": "3.6.4"
  }
 },
 "nbformat": 4,
 "nbformat_minor": 2
}

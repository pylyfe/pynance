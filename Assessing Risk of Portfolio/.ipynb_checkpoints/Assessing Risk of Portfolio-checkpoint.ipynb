{
 "cells": [
  {
   "cell_type": "markdown",
   "metadata": {},
   "source": [
    "# Assessing Risk of Portfolio\n",
    "\n",
    "In this project we will be using Python to create a portfolio of assets and analzing its risk. The risk of a portfolio of assets depends on the weights assigned to each asset in the portfolio as well as the relationships of each asset with each other (covariance). \n",
    "\n",
    "One of the most important things to assess riskiness is by looking at its volatility (standard deviation) of the returns of each asset, which can be calculated by first finding the variance of the asset and taking the square root of it. \n",
    "\n",
    "To start with, we will have to import the required libraries. The 4 most important imports in this project are:\n",
    "\n",
    "- Pandas (for dataframes and data analysis) \n",
    "- Quandl (Financial and economic dataset API)\n",
    "- Matplotlib (Graphing purposes) \n",
    "- Numpy (calculations purposes) "
   ]
  },
  {
   "cell_type": "code",
   "execution_count": 17,
   "metadata": {},
   "outputs": [],
   "source": [
    "import pandas_datareader.data as web\n",
    "import pandas as pd \n",
    "import numpy as np \n",
    "import matplotlib.pyplot as plt\n",
    "%matplotlib inline"
   ]
  },
  {
   "cell_type": "markdown",
   "metadata": {},
   "source": [
    "We will first begin by listing the assets that we want to put into our portfolio. In this project we will be using five assets: \n",
    "\n",
    "- Coca-Cola \n",
    "- Pepsi \n",
    "- General Electric \n",
    "- Oracle \n",
    "- Walmart \n",
    "\n",
    "We will place the ticker symbols of these assets inside a Python list."
   ]
  },
  {
   "cell_type": "code",
   "execution_count": 2,
   "metadata": {},
   "outputs": [],
   "source": [
    "assets = ['KO', 'PEP', 'GE', 'ORCL', 'WMT']"
   ]
  },
  {
   "cell_type": "markdown",
   "metadata": {},
   "source": [
    "Next we will create an empty dataframe, and populate it with stock data of our selected assets. In this project we will be pulling data from the Quandl API, and since we are only interested in the percentage returns of each asset inside the portfolio for our analysis, we will only be pulling the \"Adjusted Close\" prices of each asset. \n",
    "\n",
    "The data that we will be using is a two-year data from 2016 to 2018."
   ]
  },
  {
   "cell_type": "code",
   "execution_count": 3,
   "metadata": {},
   "outputs": [
    {
     "data": {
      "text/html": [
       "<div>\n",
       "<style scoped>\n",
       "    .dataframe tbody tr th:only-of-type {\n",
       "        vertical-align: middle;\n",
       "    }\n",
       "\n",
       "    .dataframe tbody tr th {\n",
       "        vertical-align: top;\n",
       "    }\n",
       "\n",
       "    .dataframe thead th {\n",
       "        text-align: right;\n",
       "    }\n",
       "</style>\n",
       "<table border=\"1\" class=\"dataframe\">\n",
       "  <thead>\n",
       "    <tr style=\"text-align: right;\">\n",
       "      <th></th>\n",
       "      <th>KO</th>\n",
       "      <th>PEP</th>\n",
       "      <th>GE</th>\n",
       "      <th>ORCL</th>\n",
       "      <th>WMT</th>\n",
       "    </tr>\n",
       "    <tr>\n",
       "      <th>Date</th>\n",
       "      <th></th>\n",
       "      <th></th>\n",
       "      <th></th>\n",
       "      <th></th>\n",
       "      <th></th>\n",
       "    </tr>\n",
       "  </thead>\n",
       "  <tbody>\n",
       "    <tr>\n",
       "      <th>2017-12-29</th>\n",
       "      <td>45.88</td>\n",
       "      <td>119.92</td>\n",
       "      <td>17.45</td>\n",
       "      <td>47.28</td>\n",
       "      <td>98.75</td>\n",
       "    </tr>\n",
       "    <tr>\n",
       "      <th>2017-12-28</th>\n",
       "      <td>45.72</td>\n",
       "      <td>119.35</td>\n",
       "      <td>17.36</td>\n",
       "      <td>47.52</td>\n",
       "      <td>99.40</td>\n",
       "    </tr>\n",
       "    <tr>\n",
       "      <th>2017-12-27</th>\n",
       "      <td>45.93</td>\n",
       "      <td>119.30</td>\n",
       "      <td>17.38</td>\n",
       "      <td>47.38</td>\n",
       "      <td>99.26</td>\n",
       "    </tr>\n",
       "    <tr>\n",
       "      <th>2017-12-26</th>\n",
       "      <td>45.81</td>\n",
       "      <td>118.89</td>\n",
       "      <td>17.43</td>\n",
       "      <td>47.43</td>\n",
       "      <td>99.16</td>\n",
       "    </tr>\n",
       "    <tr>\n",
       "      <th>2017-12-22</th>\n",
       "      <td>45.59</td>\n",
       "      <td>118.60</td>\n",
       "      <td>17.50</td>\n",
       "      <td>47.36</td>\n",
       "      <td>98.21</td>\n",
       "    </tr>\n",
       "  </tbody>\n",
       "</table>\n",
       "</div>"
      ],
      "text/plain": [
       "               KO     PEP     GE   ORCL    WMT\n",
       "Date                                          \n",
       "2017-12-29  45.88  119.92  17.45  47.28  98.75\n",
       "2017-12-28  45.72  119.35  17.36  47.52  99.40\n",
       "2017-12-27  45.93  119.30  17.38  47.38  99.26\n",
       "2017-12-26  45.81  118.89  17.43  47.43  99.16\n",
       "2017-12-22  45.59  118.60  17.50  47.36  98.21"
      ]
     },
     "execution_count": 3,
     "metadata": {},
     "output_type": "execute_result"
    }
   ],
   "source": [
    "# Create empty dataframe \n",
    "df = pd.DataFrame()\n",
    "\n",
    "# Use a for-loop to iterate through each ticker symbol and pull out data \n",
    "for stock in assets: \n",
    "    # We only want the Adjusted Close prices\n",
    "    df[stock] = web.DataReader(stock, data_source = 'quandl', start = '2016-01-01', end = '2018-01-01')['AdjClose']\n",
    "    \n",
    "# Let's check the data by printing the first 5 rows\n",
    "df.head()"
   ]
  },
  {
   "cell_type": "markdown",
   "metadata": {},
   "source": [
    "Now we will be converting these prices into percentage daily returns, since that is what we will be using for our analysis."
   ]
  },
  {
   "cell_type": "code",
   "execution_count": 4,
   "metadata": {},
   "outputs": [
    {
     "data": {
      "text/html": [
       "<div>\n",
       "<style scoped>\n",
       "    .dataframe tbody tr th:only-of-type {\n",
       "        vertical-align: middle;\n",
       "    }\n",
       "\n",
       "    .dataframe tbody tr th {\n",
       "        vertical-align: top;\n",
       "    }\n",
       "\n",
       "    .dataframe thead th {\n",
       "        text-align: right;\n",
       "    }\n",
       "</style>\n",
       "<table border=\"1\" class=\"dataframe\">\n",
       "  <thead>\n",
       "    <tr style=\"text-align: right;\">\n",
       "      <th></th>\n",
       "      <th>KO</th>\n",
       "      <th>PEP</th>\n",
       "      <th>GE</th>\n",
       "      <th>ORCL</th>\n",
       "      <th>WMT</th>\n",
       "    </tr>\n",
       "    <tr>\n",
       "      <th>Date</th>\n",
       "      <th></th>\n",
       "      <th></th>\n",
       "      <th></th>\n",
       "      <th></th>\n",
       "      <th></th>\n",
       "    </tr>\n",
       "  </thead>\n",
       "  <tbody>\n",
       "    <tr>\n",
       "      <th>2017-12-29</th>\n",
       "      <td>NaN</td>\n",
       "      <td>NaN</td>\n",
       "      <td>NaN</td>\n",
       "      <td>NaN</td>\n",
       "      <td>NaN</td>\n",
       "    </tr>\n",
       "    <tr>\n",
       "      <th>2017-12-28</th>\n",
       "      <td>-0.003487</td>\n",
       "      <td>-0.004753</td>\n",
       "      <td>-0.005158</td>\n",
       "      <td>0.005076</td>\n",
       "      <td>0.006582</td>\n",
       "    </tr>\n",
       "    <tr>\n",
       "      <th>2017-12-27</th>\n",
       "      <td>0.004593</td>\n",
       "      <td>-0.000419</td>\n",
       "      <td>0.001152</td>\n",
       "      <td>-0.002946</td>\n",
       "      <td>-0.001408</td>\n",
       "    </tr>\n",
       "    <tr>\n",
       "      <th>2017-12-26</th>\n",
       "      <td>-0.002613</td>\n",
       "      <td>-0.003437</td>\n",
       "      <td>0.002877</td>\n",
       "      <td>0.001055</td>\n",
       "      <td>-0.001007</td>\n",
       "    </tr>\n",
       "    <tr>\n",
       "      <th>2017-12-22</th>\n",
       "      <td>-0.004802</td>\n",
       "      <td>-0.002439</td>\n",
       "      <td>0.004016</td>\n",
       "      <td>-0.001476</td>\n",
       "      <td>-0.009580</td>\n",
       "    </tr>\n",
       "  </tbody>\n",
       "</table>\n",
       "</div>"
      ],
      "text/plain": [
       "                  KO       PEP        GE      ORCL       WMT\n",
       "Date                                                        \n",
       "2017-12-29       NaN       NaN       NaN       NaN       NaN\n",
       "2017-12-28 -0.003487 -0.004753 -0.005158  0.005076  0.006582\n",
       "2017-12-27  0.004593 -0.000419  0.001152 -0.002946 -0.001408\n",
       "2017-12-26 -0.002613 -0.003437  0.002877  0.001055 -0.001007\n",
       "2017-12-22 -0.004802 -0.002439  0.004016 -0.001476 -0.009580"
      ]
     },
     "execution_count": 4,
     "metadata": {},
     "output_type": "execute_result"
    }
   ],
   "source": [
    "daily_returns = df.pct_change()\n",
    "\n",
    "# Let's check the data \n",
    "daily_returns.head()"
   ]
  },
  {
   "cell_type": "markdown",
   "metadata": {},
   "source": [
    "Notice that the first row of our dataframe is filled with NaN. This is because calculating the daily percentage requires us to use at least 2 periods (days) of data, but there is no row above the first one for us to compute the percentage returns.\n",
    "\n",
    "We will have to remove the first row so that it will not interfere with our calculations."
   ]
  },
  {
   "cell_type": "code",
   "execution_count": 6,
   "metadata": {
    "scrolled": true
   },
   "outputs": [
    {
     "data": {
      "text/html": [
       "<div>\n",
       "<style scoped>\n",
       "    .dataframe tbody tr th:only-of-type {\n",
       "        vertical-align: middle;\n",
       "    }\n",
       "\n",
       "    .dataframe tbody tr th {\n",
       "        vertical-align: top;\n",
       "    }\n",
       "\n",
       "    .dataframe thead th {\n",
       "        text-align: right;\n",
       "    }\n",
       "</style>\n",
       "<table border=\"1\" class=\"dataframe\">\n",
       "  <thead>\n",
       "    <tr style=\"text-align: right;\">\n",
       "      <th></th>\n",
       "      <th>KO</th>\n",
       "      <th>PEP</th>\n",
       "      <th>GE</th>\n",
       "      <th>ORCL</th>\n",
       "      <th>WMT</th>\n",
       "    </tr>\n",
       "    <tr>\n",
       "      <th>Date</th>\n",
       "      <th></th>\n",
       "      <th></th>\n",
       "      <th></th>\n",
       "      <th></th>\n",
       "      <th></th>\n",
       "    </tr>\n",
       "  </thead>\n",
       "  <tbody>\n",
       "    <tr>\n",
       "      <th>2017-12-28</th>\n",
       "      <td>-0.003487</td>\n",
       "      <td>-0.004753</td>\n",
       "      <td>-0.005158</td>\n",
       "      <td>0.005076</td>\n",
       "      <td>0.006582</td>\n",
       "    </tr>\n",
       "    <tr>\n",
       "      <th>2017-12-27</th>\n",
       "      <td>0.004593</td>\n",
       "      <td>-0.000419</td>\n",
       "      <td>0.001152</td>\n",
       "      <td>-0.002946</td>\n",
       "      <td>-0.001408</td>\n",
       "    </tr>\n",
       "    <tr>\n",
       "      <th>2017-12-26</th>\n",
       "      <td>-0.002613</td>\n",
       "      <td>-0.003437</td>\n",
       "      <td>0.002877</td>\n",
       "      <td>0.001055</td>\n",
       "      <td>-0.001007</td>\n",
       "    </tr>\n",
       "    <tr>\n",
       "      <th>2017-12-22</th>\n",
       "      <td>-0.004802</td>\n",
       "      <td>-0.002439</td>\n",
       "      <td>0.004016</td>\n",
       "      <td>-0.001476</td>\n",
       "      <td>-0.009580</td>\n",
       "    </tr>\n",
       "    <tr>\n",
       "      <th>2017-12-21</th>\n",
       "      <td>0.000219</td>\n",
       "      <td>-0.002867</td>\n",
       "      <td>-0.001714</td>\n",
       "      <td>-0.001689</td>\n",
       "      <td>-0.001527</td>\n",
       "    </tr>\n",
       "  </tbody>\n",
       "</table>\n",
       "</div>"
      ],
      "text/plain": [
       "                  KO       PEP        GE      ORCL       WMT\n",
       "Date                                                        \n",
       "2017-12-28 -0.003487 -0.004753 -0.005158  0.005076  0.006582\n",
       "2017-12-27  0.004593 -0.000419  0.001152 -0.002946 -0.001408\n",
       "2017-12-26 -0.002613 -0.003437  0.002877  0.001055 -0.001007\n",
       "2017-12-22 -0.004802 -0.002439  0.004016 -0.001476 -0.009580\n",
       "2017-12-21  0.000219 -0.002867 -0.001714 -0.001689 -0.001527"
      ]
     },
     "execution_count": 6,
     "metadata": {},
     "output_type": "execute_result"
    }
   ],
   "source": [
    "daily_returns = daily_returns.dropna(axis = 0)\n",
    "\n",
    "# Let's check the data again \n",
    "daily_returns.head()"
   ]
  },
  {
   "cell_type": "markdown",
   "metadata": {},
   "source": [
    "We can even get additional information from the daily returns by using the \".describe()\" for data summary and \".corr()\" for data correlation."
   ]
  },
  {
   "cell_type": "code",
   "execution_count": 14,
   "metadata": {},
   "outputs": [
    {
     "data": {
      "text/html": [
       "<div>\n",
       "<style scoped>\n",
       "    .dataframe tbody tr th:only-of-type {\n",
       "        vertical-align: middle;\n",
       "    }\n",
       "\n",
       "    .dataframe tbody tr th {\n",
       "        vertical-align: top;\n",
       "    }\n",
       "\n",
       "    .dataframe thead th {\n",
       "        text-align: right;\n",
       "    }\n",
       "</style>\n",
       "<table border=\"1\" class=\"dataframe\">\n",
       "  <thead>\n",
       "    <tr style=\"text-align: right;\">\n",
       "      <th></th>\n",
       "      <th>KO</th>\n",
       "      <th>PEP</th>\n",
       "      <th>GE</th>\n",
       "      <th>ORCL</th>\n",
       "      <th>WMT</th>\n",
       "    </tr>\n",
       "  </thead>\n",
       "  <tbody>\n",
       "    <tr>\n",
       "      <th>count</th>\n",
       "      <td>501.000000</td>\n",
       "      <td>501.000000</td>\n",
       "      <td>501.000000</td>\n",
       "      <td>501.000000</td>\n",
       "      <td>501.000000</td>\n",
       "    </tr>\n",
       "    <tr>\n",
       "      <th>mean</th>\n",
       "      <td>-0.000243</td>\n",
       "      <td>-0.000459</td>\n",
       "      <td>0.001086</td>\n",
       "      <td>-0.000545</td>\n",
       "      <td>-0.000976</td>\n",
       "    </tr>\n",
       "    <tr>\n",
       "      <th>std</th>\n",
       "      <td>0.007530</td>\n",
       "      <td>0.007407</td>\n",
       "      <td>0.011921</td>\n",
       "      <td>0.011620</td>\n",
       "      <td>0.011539</td>\n",
       "    </tr>\n",
       "    <tr>\n",
       "      <th>min</th>\n",
       "      <td>-0.024286</td>\n",
       "      <td>-0.026619</td>\n",
       "      <td>-0.034554</td>\n",
       "      <td>-0.078926</td>\n",
       "      <td>-0.098273</td>\n",
       "    </tr>\n",
       "    <tr>\n",
       "      <th>25%</th>\n",
       "      <td>-0.004557</td>\n",
       "      <td>-0.005201</td>\n",
       "      <td>-0.004741</td>\n",
       "      <td>-0.005408</td>\n",
       "      <td>-0.006236</td>\n",
       "    </tr>\n",
       "    <tr>\n",
       "      <th>50%</th>\n",
       "      <td>-0.000660</td>\n",
       "      <td>-0.000602</td>\n",
       "      <td>0.000692</td>\n",
       "      <td>-0.000730</td>\n",
       "      <td>-0.001038</td>\n",
       "    </tr>\n",
       "    <tr>\n",
       "      <th>75%</th>\n",
       "      <td>0.003328</td>\n",
       "      <td>0.003226</td>\n",
       "      <td>0.006190</td>\n",
       "      <td>0.004065</td>\n",
       "      <td>0.004350</td>\n",
       "    </tr>\n",
       "    <tr>\n",
       "      <th>max</th>\n",
       "      <td>0.050259</td>\n",
       "      <td>0.038741</td>\n",
       "      <td>0.077287</td>\n",
       "      <td>0.083094</td>\n",
       "      <td>0.048777</td>\n",
       "    </tr>\n",
       "  </tbody>\n",
       "</table>\n",
       "</div>"
      ],
      "text/plain": [
       "               KO         PEP          GE        ORCL         WMT\n",
       "count  501.000000  501.000000  501.000000  501.000000  501.000000\n",
       "mean    -0.000243   -0.000459    0.001086   -0.000545   -0.000976\n",
       "std      0.007530    0.007407    0.011921    0.011620    0.011539\n",
       "min     -0.024286   -0.026619   -0.034554   -0.078926   -0.098273\n",
       "25%     -0.004557   -0.005201   -0.004741   -0.005408   -0.006236\n",
       "50%     -0.000660   -0.000602    0.000692   -0.000730   -0.001038\n",
       "75%      0.003328    0.003226    0.006190    0.004065    0.004350\n",
       "max      0.050259    0.038741    0.077287    0.083094    0.048777"
      ]
     },
     "execution_count": 14,
     "metadata": {},
     "output_type": "execute_result"
    }
   ],
   "source": [
    "daily_returns.describe()"
   ]
  },
  {
   "cell_type": "code",
   "execution_count": 15,
   "metadata": {
    "scrolled": true
   },
   "outputs": [
    {
     "data": {
      "text/html": [
       "<div>\n",
       "<style scoped>\n",
       "    .dataframe tbody tr th:only-of-type {\n",
       "        vertical-align: middle;\n",
       "    }\n",
       "\n",
       "    .dataframe tbody tr th {\n",
       "        vertical-align: top;\n",
       "    }\n",
       "\n",
       "    .dataframe thead th {\n",
       "        text-align: right;\n",
       "    }\n",
       "</style>\n",
       "<table border=\"1\" class=\"dataframe\">\n",
       "  <thead>\n",
       "    <tr style=\"text-align: right;\">\n",
       "      <th></th>\n",
       "      <th>KO</th>\n",
       "      <th>PEP</th>\n",
       "      <th>GE</th>\n",
       "      <th>ORCL</th>\n",
       "      <th>WMT</th>\n",
       "    </tr>\n",
       "  </thead>\n",
       "  <tbody>\n",
       "    <tr>\n",
       "      <th>KO</th>\n",
       "      <td>1.000000</td>\n",
       "      <td>0.732956</td>\n",
       "      <td>0.209518</td>\n",
       "      <td>0.207489</td>\n",
       "      <td>0.217588</td>\n",
       "    </tr>\n",
       "    <tr>\n",
       "      <th>PEP</th>\n",
       "      <td>0.732956</td>\n",
       "      <td>1.000000</td>\n",
       "      <td>0.184552</td>\n",
       "      <td>0.215486</td>\n",
       "      <td>0.290927</td>\n",
       "    </tr>\n",
       "    <tr>\n",
       "      <th>GE</th>\n",
       "      <td>0.209518</td>\n",
       "      <td>0.184552</td>\n",
       "      <td>1.000000</td>\n",
       "      <td>0.234278</td>\n",
       "      <td>0.124725</td>\n",
       "    </tr>\n",
       "    <tr>\n",
       "      <th>ORCL</th>\n",
       "      <td>0.207489</td>\n",
       "      <td>0.215486</td>\n",
       "      <td>0.234278</td>\n",
       "      <td>1.000000</td>\n",
       "      <td>0.118172</td>\n",
       "    </tr>\n",
       "    <tr>\n",
       "      <th>WMT</th>\n",
       "      <td>0.217588</td>\n",
       "      <td>0.290927</td>\n",
       "      <td>0.124725</td>\n",
       "      <td>0.118172</td>\n",
       "      <td>1.000000</td>\n",
       "    </tr>\n",
       "  </tbody>\n",
       "</table>\n",
       "</div>"
      ],
      "text/plain": [
       "            KO       PEP        GE      ORCL       WMT\n",
       "KO    1.000000  0.732956  0.209518  0.207489  0.217588\n",
       "PEP   0.732956  1.000000  0.184552  0.215486  0.290927\n",
       "GE    0.209518  0.184552  1.000000  0.234278  0.124725\n",
       "ORCL  0.207489  0.215486  0.234278  1.000000  0.118172\n",
       "WMT   0.217588  0.290927  0.124725  0.118172  1.000000"
      ]
     },
     "execution_count": 15,
     "metadata": {},
     "output_type": "execute_result"
    }
   ],
   "source": [
    "daily_returns.corr()"
   ]
  },
  {
   "cell_type": "markdown",
   "metadata": {},
   "source": [
    "Lastly, we can also use matplotlib to graph the daily returns of each asset."
   ]
  },
  {
   "cell_type": "code",
   "execution_count": 18,
   "metadata": {},
   "outputs": [
    {
     "data": {
      "text/plain": [
       "<matplotlib.axes._subplots.AxesSubplot at 0x11447c4a8>"
      ]
     },
     "execution_count": 18,
     "metadata": {},
     "output_type": "execute_result"
    },
    {
     "data": {
      "image/png": "[encoded data removed]",
      "text/plain": [
       "<matplotlib.figure.Figure at 0x114440c18>"
      ]
     },
     "metadata": {},
     "output_type": "display_data"
    }
   ],
   "source": [
    "daily_returns.plot(figsize = (16,8))"
   ]
  },
  {
   "cell_type": "markdown",
   "metadata": {},
   "source": [
    "Now we will proceed to find the volatility of the stock. It is actually possible for us to use Numpy to directly get to the standard deviation of the portfolio, but in order to better understand how we get volatility, we will take the path of first computing the co-variance of each asset, getting the variance by using a formula, and then taking the square root to get to the standard deviation. \n",
    "\n",
    "In this project, we will be looking for the annual volatility of the portfolio, so we will have to convert all of our calculations to an annual basis.\n",
    "\n",
    "Lastly, note that we will be assigning equal weights for each asset in the portfolio for simplicity."
   ]
  },
  {
   "cell_type": "code",
   "execution_count": 7,
   "metadata": {},
   "outputs": [],
   "source": [
    "# Get the daily covariance (relationships) of each asset \n",
    "covariance_matrix_daily = daily_returns.cov()\n",
    "\n",
    "# Get the annual covariance\n",
    "covariance_matrix_annual = covariance_matrix_daily * 252 # number of trading days in the US for a year \n",
    "\n",
    "# Assign equal weights to all assets in the portfolio \n",
    "weights = np.array([0.2, 0.2, 0.2, 0.2, 0.2])"
   ]
  },
  {
   "cell_type": "markdown",
   "metadata": {},
   "source": [
    "We can see what the covariance matrix looks like by printing out both the daily and annual versions."
   ]
  },
  {
   "cell_type": "code",
   "execution_count": 8,
   "metadata": {},
   "outputs": [
    {
     "data": {
      "text/html": [
       "<div>\n",
       "<style scoped>\n",
       "    .dataframe tbody tr th:only-of-type {\n",
       "        vertical-align: middle;\n",
       "    }\n",
       "\n",
       "    .dataframe tbody tr th {\n",
       "        vertical-align: top;\n",
       "    }\n",
       "\n",
       "    .dataframe thead th {\n",
       "        text-align: right;\n",
       "    }\n",
       "</style>\n",
       "<table border=\"1\" class=\"dataframe\">\n",
       "  <thead>\n",
       "    <tr style=\"text-align: right;\">\n",
       "      <th></th>\n",
       "      <th>KO</th>\n",
       "      <th>PEP</th>\n",
       "      <th>GE</th>\n",
       "      <th>ORCL</th>\n",
       "      <th>WMT</th>\n",
       "    </tr>\n",
       "  </thead>\n",
       "  <tbody>\n",
       "    <tr>\n",
       "      <th>KO</th>\n",
       "      <td>0.000057</td>\n",
       "      <td>0.000041</td>\n",
       "      <td>0.000019</td>\n",
       "      <td>0.000018</td>\n",
       "      <td>0.000019</td>\n",
       "    </tr>\n",
       "    <tr>\n",
       "      <th>PEP</th>\n",
       "      <td>0.000041</td>\n",
       "      <td>0.000055</td>\n",
       "      <td>0.000016</td>\n",
       "      <td>0.000019</td>\n",
       "      <td>0.000025</td>\n",
       "    </tr>\n",
       "    <tr>\n",
       "      <th>GE</th>\n",
       "      <td>0.000019</td>\n",
       "      <td>0.000016</td>\n",
       "      <td>0.000142</td>\n",
       "      <td>0.000032</td>\n",
       "      <td>0.000017</td>\n",
       "    </tr>\n",
       "    <tr>\n",
       "      <th>ORCL</th>\n",
       "      <td>0.000018</td>\n",
       "      <td>0.000019</td>\n",
       "      <td>0.000032</td>\n",
       "      <td>0.000135</td>\n",
       "      <td>0.000016</td>\n",
       "    </tr>\n",
       "    <tr>\n",
       "      <th>WMT</th>\n",
       "      <td>0.000019</td>\n",
       "      <td>0.000025</td>\n",
       "      <td>0.000017</td>\n",
       "      <td>0.000016</td>\n",
       "      <td>0.000133</td>\n",
       "    </tr>\n",
       "  </tbody>\n",
       "</table>\n",
       "</div>"
      ],
      "text/plain": [
       "            KO       PEP        GE      ORCL       WMT\n",
       "KO    0.000057  0.000041  0.000019  0.000018  0.000019\n",
       "PEP   0.000041  0.000055  0.000016  0.000019  0.000025\n",
       "GE    0.000019  0.000016  0.000142  0.000032  0.000017\n",
       "ORCL  0.000018  0.000019  0.000032  0.000135  0.000016\n",
       "WMT   0.000019  0.000025  0.000017  0.000016  0.000133"
      ]
     },
     "execution_count": 8,
     "metadata": {},
     "output_type": "execute_result"
    }
   ],
   "source": [
    "# Print out daily covariance matrix\n",
    "covariance_matrix_daily.head()"
   ]
  },
  {
   "cell_type": "code",
   "execution_count": 9,
   "metadata": {},
   "outputs": [
    {
     "data": {
      "text/html": [
       "<div>\n",
       "<style scoped>\n",
       "    .dataframe tbody tr th:only-of-type {\n",
       "        vertical-align: middle;\n",
       "    }\n",
       "\n",
       "    .dataframe tbody tr th {\n",
       "        vertical-align: top;\n",
       "    }\n",
       "\n",
       "    .dataframe thead th {\n",
       "        text-align: right;\n",
       "    }\n",
       "</style>\n",
       "<table border=\"1\" class=\"dataframe\">\n",
       "  <thead>\n",
       "    <tr style=\"text-align: right;\">\n",
       "      <th></th>\n",
       "      <th>KO</th>\n",
       "      <th>PEP</th>\n",
       "      <th>GE</th>\n",
       "      <th>ORCL</th>\n",
       "      <th>WMT</th>\n",
       "    </tr>\n",
       "  </thead>\n",
       "  <tbody>\n",
       "    <tr>\n",
       "      <th>KO</th>\n",
       "      <td>0.014290</td>\n",
       "      <td>0.010303</td>\n",
       "      <td>0.004740</td>\n",
       "      <td>0.004575</td>\n",
       "      <td>0.004764</td>\n",
       "    </tr>\n",
       "    <tr>\n",
       "      <th>PEP</th>\n",
       "      <td>0.010303</td>\n",
       "      <td>0.013827</td>\n",
       "      <td>0.004107</td>\n",
       "      <td>0.004674</td>\n",
       "      <td>0.006266</td>\n",
       "    </tr>\n",
       "    <tr>\n",
       "      <th>GE</th>\n",
       "      <td>0.004740</td>\n",
       "      <td>0.004107</td>\n",
       "      <td>0.035810</td>\n",
       "      <td>0.008178</td>\n",
       "      <td>0.004323</td>\n",
       "    </tr>\n",
       "    <tr>\n",
       "      <th>ORCL</th>\n",
       "      <td>0.004575</td>\n",
       "      <td>0.004674</td>\n",
       "      <td>0.008178</td>\n",
       "      <td>0.034026</td>\n",
       "      <td>0.003993</td>\n",
       "    </tr>\n",
       "    <tr>\n",
       "      <th>WMT</th>\n",
       "      <td>0.004764</td>\n",
       "      <td>0.006266</td>\n",
       "      <td>0.004323</td>\n",
       "      <td>0.003993</td>\n",
       "      <td>0.033551</td>\n",
       "    </tr>\n",
       "  </tbody>\n",
       "</table>\n",
       "</div>"
      ],
      "text/plain": [
       "            KO       PEP        GE      ORCL       WMT\n",
       "KO    0.014290  0.010303  0.004740  0.004575  0.004764\n",
       "PEP   0.010303  0.013827  0.004107  0.004674  0.006266\n",
       "GE    0.004740  0.004107  0.035810  0.008178  0.004323\n",
       "ORCL  0.004575  0.004674  0.008178  0.034026  0.003993\n",
       "WMT   0.004764  0.006266  0.004323  0.003993  0.033551"
      ]
     },
     "execution_count": 9,
     "metadata": {},
     "output_type": "execute_result"
    }
   ],
   "source": [
    "# Print out annual covariance matrix \n",
    "covariance_matrix_annual.head()"
   ]
  },
  {
   "cell_type": "markdown",
   "metadata": {},
   "source": [
    "Now we can find the variance of the portfolio by performing a dot product calculation on the annual covariance with the weights of each asset. \n",
    "\n",
    "A dot product simply means that all values within the weights array are multiplied with the corresponding values within the covariance dataframe, and the results are added up together."
   ]
  },
  {
   "cell_type": "code",
   "execution_count": 10,
   "metadata": {},
   "outputs": [
    {
     "name": "stdout",
     "output_type": "stream",
     "text": [
      "0.009734081268279626\n"
     ]
    }
   ],
   "source": [
    "portfolio_variance = np.dot(weights.T, np.dot(covariance_matrix_annual, weights))\n",
    "\n",
    "# Print out portfolio variance\n",
    "print(portfolio_variance)"
   ]
  },
  {
   "cell_type": "markdown",
   "metadata": {},
   "source": [
    "Now we can simply find the standard deviation by taking the square root of our portfolio's variance."
   ]
  },
  {
   "cell_type": "code",
   "execution_count": 11,
   "metadata": {},
   "outputs": [
    {
     "name": "stdout",
     "output_type": "stream",
     "text": [
      "0.0986614477305073\n"
     ]
    }
   ],
   "source": [
    "portfolio_volatility = np.sqrt(portfolio_variance)\n",
    "\n",
    "print(portfolio_volatility)"
   ]
  },
  {
   "cell_type": "markdown",
   "metadata": {},
   "source": [
    "The portfolio volatility is the risk that we are taking if we are investing in these 5 assets with equally assigned weights. We can convert both the variance and the volatility of the portfolio into a percentage value simply by multiplying them with 100, and print them out in a form that is easy for investors to understand."
   ]
  },
  {
   "cell_type": "code",
   "execution_count": 19,
   "metadata": {},
   "outputs": [
    {
     "name": "stdout",
     "output_type": "stream",
     "text": [
      "Variance of Portfolio is 0.97, Portfolio Risk is 9.87\n"
     ]
    }
   ],
   "source": [
    "percent_variance = portfolio_variance * 100\n",
    "percent_volatility = portfolio_volatility * 100\n",
    "\n",
    "print('Variance of Portfolio is %.2f, Portfolio Risk is %.2f' % (percent_variance, percent_volatility))"
   ]
  },
  {
   "cell_type": "markdown",
   "metadata": {},
   "source": [
    "©Regio Abundan. May 30th, 2018."
   ]
  }
 ],
 "metadata": {
  "kernelspec": {
   "display_name": "Python 3",
   "language": "python",
   "name": "python3"
  },
  "language_info": {
   "codemirror_mode": {
    "name": "ipython",
    "version": 3
   },
   "file_extension": ".py",
   "mimetype": "text/x-python",
   "name": "python",
   "nbconvert_exporter": "python",
   "pygments_lexer": "ipython3",
   "version": "3.6.4"
  }
 },
 "nbformat": 4,
 "nbformat_minor": 2
}
